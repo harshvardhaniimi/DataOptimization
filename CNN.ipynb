{
 "cells": [
  {
   "cell_type": "code",
   "execution_count": 1,
   "id": "093ba58a",
   "metadata": {
    "ExecuteTime": {
     "end_time": "2022-10-20T04:06:05.675040Z",
     "start_time": "2022-10-20T04:05:58.192010Z"
    }
   },
   "outputs": [],
   "source": [
    "import torch\n",
    "from torch import nn"
   ]
  },
  {
   "cell_type": "markdown",
   "id": "8c4ae8b5",
   "metadata": {},
   "source": [
    "# Linear"
   ]
  },
  {
   "cell_type": "code",
   "execution_count": 2,
   "id": "bc7e3edf",
   "metadata": {
    "ExecuteTime": {
     "end_time": "2022-10-20T04:06:08.292612Z",
     "start_time": "2022-10-20T04:06:08.219013Z"
    }
   },
   "outputs": [
    {
     "data": {
      "text/plain": [
       "Linear(in_features=2, out_features=3, bias=True)"
      ]
     },
     "execution_count": 2,
     "metadata": {},
     "output_type": "execute_result"
    }
   ],
   "source": [
    "m = nn.Linear(2, 3)\n",
    "m"
   ]
  },
  {
   "cell_type": "code",
   "execution_count": 3,
   "id": "907b44b3",
   "metadata": {
    "ExecuteTime": {
     "end_time": "2022-10-20T04:06:09.000318Z",
     "start_time": "2022-10-20T04:06:08.881997Z"
    }
   },
   "outputs": [
    {
     "data": {
      "text/plain": [
       "tensor([0.5358, 0.3796])"
      ]
     },
     "execution_count": 3,
     "metadata": {},
     "output_type": "execute_result"
    }
   ],
   "source": [
    "input = torch.rand(2)\n",
    "input"
   ]
  },
  {
   "cell_type": "code",
   "execution_count": 4,
   "id": "f0a35774",
   "metadata": {
    "ExecuteTime": {
     "end_time": "2022-10-20T04:06:09.542820Z",
     "start_time": "2022-10-20T04:06:09.509063Z"
    }
   },
   "outputs": [
    {
     "data": {
      "text/plain": [
       "tensor([ 0.8980,  0.1070, -0.1587], grad_fn=<AddBackward0>)"
      ]
     },
     "execution_count": 4,
     "metadata": {},
     "output_type": "execute_result"
    }
   ],
   "source": [
    "m(input)"
   ]
  },
  {
   "cell_type": "code",
   "execution_count": 5,
   "id": "f9a1067f",
   "metadata": {
    "ExecuteTime": {
     "end_time": "2022-10-20T04:06:10.055716Z",
     "start_time": "2022-10-20T04:06:10.049942Z"
    }
   },
   "outputs": [
    {
     "data": {
      "text/plain": [
       "(Parameter containing:\n",
       " tensor([[ 0.6122,  0.0949],\n",
       "         [ 0.4877,  0.3731],\n",
       "         [-0.3167, -0.5591]], requires_grad=True),\n",
       " Parameter containing:\n",
       " tensor([ 0.5340, -0.2960,  0.2232], requires_grad=True))"
      ]
     },
     "execution_count": 5,
     "metadata": {},
     "output_type": "execute_result"
    }
   ],
   "source": [
    "m.weight, m.bias"
   ]
  },
  {
   "cell_type": "code",
   "execution_count": 6,
   "id": "51383334",
   "metadata": {
    "ExecuteTime": {
     "end_time": "2022-10-20T04:06:10.647703Z",
     "start_time": "2022-10-20T04:06:10.641941Z"
    }
   },
   "outputs": [
    {
     "data": {
      "text/plain": [
       "tensor([ 0.8980,  0.1070, -0.1587], grad_fn=<AddBackward0>)"
      ]
     },
     "execution_count": 6,
     "metadata": {},
     "output_type": "execute_result"
    }
   ],
   "source": [
    "torch.matmul(m.weight, input) + m.bias"
   ]
  },
  {
   "cell_type": "markdown",
   "id": "2f9f188b",
   "metadata": {},
   "source": [
    "# Convolution"
   ]
  },
  {
   "cell_type": "code",
   "execution_count": 7,
   "id": "a411a4ac",
   "metadata": {
    "ExecuteTime": {
     "end_time": "2022-10-20T04:06:11.925997Z",
     "start_time": "2022-10-20T04:06:11.919937Z"
    }
   },
   "outputs": [
    {
     "data": {
      "text/plain": [
       "(Parameter containing:\n",
       " tensor([[[-0.0618,  0.0710, -0.1576,  0.1202],\n",
       "          [ 0.0042,  0.1777, -0.1358,  0.1538],\n",
       "          [ 0.1124,  0.1819, -0.0375,  0.2509]],\n",
       " \n",
       "         [[ 0.2410,  0.0919, -0.2155,  0.2886],\n",
       "          [-0.0923,  0.0185, -0.1231,  0.2772],\n",
       "          [ 0.0098, -0.2858, -0.2230,  0.2430]]], requires_grad=True),\n",
       " Parameter containing:\n",
       " tensor([-0.0699, -0.1645], requires_grad=True))"
      ]
     },
     "execution_count": 7,
     "metadata": {},
     "output_type": "execute_result"
    }
   ],
   "source": [
    "m = nn.Conv1d(in_channels=3, out_channels=2, kernel_size=4)\n",
    "m.weight, m.bias"
   ]
  },
  {
   "cell_type": "code",
   "execution_count": 8,
   "id": "fa9a8842",
   "metadata": {
    "ExecuteTime": {
     "end_time": "2022-10-20T04:06:12.483681Z",
     "start_time": "2022-10-20T04:06:12.477948Z"
    }
   },
   "outputs": [
    {
     "data": {
      "text/plain": [
       "tensor([[0.5391, 0.1440, 0.7365, 0.6486, 0.4576, 0.6834, 0.1048],\n",
       "        [0.1956, 0.1331, 0.8039, 0.2506, 0.1295, 0.7127, 0.7451],\n",
       "        [0.1897, 0.8582, 0.5038, 0.6590, 0.5414, 0.9032, 0.8648]])"
      ]
     },
     "execution_count": 8,
     "metadata": {},
     "output_type": "execute_result"
    }
   ],
   "source": [
    "input = torch.rand(3, 7)\n",
    "input"
   ]
  },
  {
   "cell_type": "code",
   "execution_count": 9,
   "id": "bd1ef5e4",
   "metadata": {
    "ExecuteTime": {
     "end_time": "2022-10-20T04:06:13.165249Z",
     "start_time": "2022-10-20T04:06:13.133954Z"
    }
   },
   "outputs": [
    {
     "data": {
      "text/plain": [
       "tensor([[ 0.1466,  0.3548,  0.4633,  0.2248],\n",
       "        [-0.2334, -0.2130,  0.1988, -0.1244]], grad_fn=<SqueezeBackward1>)"
      ]
     },
     "execution_count": 9,
     "metadata": {},
     "output_type": "execute_result"
    }
   ],
   "source": [
    "m(input)"
   ]
  },
  {
   "cell_type": "code",
   "execution_count": 10,
   "id": "cfe7c240",
   "metadata": {
    "ExecuteTime": {
     "end_time": "2022-10-20T04:06:13.689340Z",
     "start_time": "2022-10-20T04:06:13.680968Z"
    }
   },
   "outputs": [
    {
     "data": {
      "text/plain": [
       "[tensor(0.1466, grad_fn=<AddBackward0>),\n",
       " tensor(0.3548, grad_fn=<AddBackward0>),\n",
       " tensor(0.4633, grad_fn=<AddBackward0>),\n",
       " tensor(0.2248, grad_fn=<AddBackward0>)]"
      ]
     },
     "execution_count": 10,
     "metadata": {},
     "output_type": "execute_result"
    }
   ],
   "source": [
    "[\n",
    "    torch.sum(m.weight[0] * input[:, 0:4]) + m.bias[0],\n",
    "    torch.sum(m.weight[0] * input[:, 1:5]) + m.bias[0],\n",
    "    torch.sum(m.weight[0] * input[:, 2:6]) + m.bias[0],\n",
    "    torch.sum(m.weight[0] * input[:, 3:7]) + m.bias[0],\n",
    "]"
   ]
  },
  {
   "cell_type": "code",
   "execution_count": 11,
   "id": "27b5c68c",
   "metadata": {
    "ExecuteTime": {
     "end_time": "2022-10-20T04:06:14.319375Z",
     "start_time": "2022-10-20T04:06:14.311983Z"
    }
   },
   "outputs": [
    {
     "data": {
      "text/plain": [
       "[tensor(-0.2334, grad_fn=<AddBackward0>),\n",
       " tensor(-0.2130, grad_fn=<AddBackward0>),\n",
       " tensor(0.1988, grad_fn=<AddBackward0>),\n",
       " tensor(-0.1244, grad_fn=<AddBackward0>)]"
      ]
     },
     "execution_count": 11,
     "metadata": {},
     "output_type": "execute_result"
    }
   ],
   "source": [
    "[\n",
    "    torch.sum(m.weight[1] * input[:, 0:4]) + m.bias[1],\n",
    "    torch.sum(m.weight[1] * input[:, 1:5]) + m.bias[1],\n",
    "    torch.sum(m.weight[1] * input[:, 2:6]) + m.bias[1],\n",
    "    torch.sum(m.weight[1] * input[:, 3:7]) + m.bias[1],\n",
    "]"
   ]
  },
  {
   "cell_type": "markdown",
   "id": "21873300",
   "metadata": {},
   "source": [
    "# Two dimensional"
   ]
  },
  {
   "cell_type": "code",
   "execution_count": 12,
   "id": "605a4efc",
   "metadata": {
    "ExecuteTime": {
     "end_time": "2022-10-20T04:06:15.774221Z",
     "start_time": "2022-10-20T04:06:15.768028Z"
    }
   },
   "outputs": [
    {
     "data": {
      "text/plain": [
       "Parameter containing:\n",
       "tensor([[[[-2.0411e-01, -2.7462e-02,  1.9147e-01, -1.7199e-01],\n",
       "          [ 7.2721e-02, -1.9994e-01, -2.3749e-01,  2.0968e-02]],\n",
       "\n",
       "         [[-5.0866e-02,  1.5459e-01,  1.2333e-01,  6.2885e-02],\n",
       "          [-1.1503e-01,  9.9345e-02,  2.0866e-01, -1.0110e-01]]],\n",
       "\n",
       "\n",
       "        [[[ 2.2189e-01,  1.9349e-01, -2.2063e-01, -1.3557e-01],\n",
       "          [-4.6969e-02,  4.5682e-02, -1.8891e-01,  1.3933e-01]],\n",
       "\n",
       "         [[-4.7293e-03, -1.8525e-01,  9.5883e-02, -1.7339e-01],\n",
       "          [ 1.9617e-01,  4.9526e-02, -5.3311e-02, -2.2112e-01]]],\n",
       "\n",
       "\n",
       "        [[[-1.6013e-01, -1.4089e-01,  4.2193e-03,  1.6141e-01],\n",
       "          [ 1.3814e-01,  1.2587e-02,  2.3132e-01,  1.3588e-01]],\n",
       "\n",
       "         [[-4.1097e-05, -1.5928e-01, -1.1762e-01,  3.9201e-02],\n",
       "          [ 1.4691e-01, -1.6641e-01,  2.2056e-01,  2.4622e-01]]]],\n",
       "       requires_grad=True)"
      ]
     },
     "execution_count": 12,
     "metadata": {},
     "output_type": "execute_result"
    }
   ],
   "source": [
    "m = nn.Conv2d(2, 3, (2, 4))\n",
    "m.weight"
   ]
  },
  {
   "cell_type": "code",
   "execution_count": null,
   "id": "3dac90d0",
   "metadata": {},
   "outputs": [],
   "source": []
  }
 ],
 "metadata": {
  "kernelspec": {
   "display_name": "Python 3 (ipykernel)",
   "language": "python",
   "name": "python3"
  },
  "language_info": {
   "codemirror_mode": {
    "name": "ipython",
    "version": 3
   },
   "file_extension": ".py",
   "mimetype": "text/x-python",
   "name": "python",
   "nbconvert_exporter": "python",
   "pygments_lexer": "ipython3",
   "version": "3.8.8"
  },
  "toc": {
   "base_numbering": 1,
   "nav_menu": {},
   "number_sections": true,
   "sideBar": true,
   "skip_h1_title": false,
   "title_cell": "Table of Contents",
   "title_sidebar": "Contents",
   "toc_cell": false,
   "toc_position": {},
   "toc_section_display": true,
   "toc_window_display": false
  }
 },
 "nbformat": 4,
 "nbformat_minor": 5
}
