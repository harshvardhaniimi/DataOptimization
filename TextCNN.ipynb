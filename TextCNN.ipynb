{
 "cells": [
  {
   "cell_type": "code",
   "execution_count": 1,
   "id": "d6346b15-2a33-465a-bed0-193524e81a70",
   "metadata": {
    "execution": {
     "iopub.execute_input": "2022-10-20T03:59:55.524567Z",
     "iopub.status.busy": "2022-10-20T03:59:55.523561Z",
     "iopub.status.idle": "2022-10-20T03:59:56.758173Z",
     "shell.execute_reply": "2022-10-20T03:59:56.757644Z",
     "shell.execute_reply.started": "2022-10-20T03:59:55.524439Z"
    },
    "tags": []
   },
   "outputs": [],
   "source": [
    "import collections, itertools, re\n",
    "import numpy as np\n",
    "import pandas as pd\n",
    "from sklearn import preprocessing\n",
    "from sklearn import model_selection\n",
    "from sklearn import metrics\n",
    "from nltk.tokenize import word_tokenize\n",
    "import torch\n",
    "from torch import nn\n",
    "from skorch import NeuralNetClassifier"
   ]
  },
  {
   "cell_type": "markdown",
   "id": "94ca1255-09c5-4d38-b909-e71789fbc27f",
   "metadata": {
    "tags": []
   },
   "source": [
    "# Data\n",
    "\n",
    "https://www.kaggle.com/competitions/nlp-getting-started/data"
   ]
  },
  {
   "cell_type": "code",
   "execution_count": 2,
   "id": "57f38706-9a9b-4f20-a6f1-6a000a3598af",
   "metadata": {
    "execution": {
     "iopub.execute_input": "2022-10-20T03:59:56.759502Z",
     "iopub.status.busy": "2022-10-20T03:59:56.759149Z",
     "iopub.status.idle": "2022-10-20T03:59:56.792535Z",
     "shell.execute_reply": "2022-10-20T03:59:56.791764Z",
     "shell.execute_reply.started": "2022-10-20T03:59:56.759482Z"
    },
    "tags": []
   },
   "outputs": [
    {
     "data": {
      "text/html": [
       "<div>\n",
       "<style scoped>\n",
       "    .dataframe tbody tr th:only-of-type {\n",
       "        vertical-align: middle;\n",
       "    }\n",
       "\n",
       "    .dataframe tbody tr th {\n",
       "        vertical-align: top;\n",
       "    }\n",
       "\n",
       "    .dataframe thead th {\n",
       "        text-align: right;\n",
       "    }\n",
       "</style>\n",
       "<table border=\"1\" class=\"dataframe\">\n",
       "  <thead>\n",
       "    <tr style=\"text-align: right;\">\n",
       "      <th></th>\n",
       "      <th>keyword</th>\n",
       "      <th>location</th>\n",
       "      <th>text</th>\n",
       "      <th>target</th>\n",
       "    </tr>\n",
       "    <tr>\n",
       "      <th>id</th>\n",
       "      <th></th>\n",
       "      <th></th>\n",
       "      <th></th>\n",
       "      <th></th>\n",
       "    </tr>\n",
       "  </thead>\n",
       "  <tbody>\n",
       "    <tr>\n",
       "      <th>1</th>\n",
       "      <td>NaN</td>\n",
       "      <td>NaN</td>\n",
       "      <td>Our Deeds are the Reason of this #earthquake M...</td>\n",
       "      <td>1</td>\n",
       "    </tr>\n",
       "    <tr>\n",
       "      <th>4</th>\n",
       "      <td>NaN</td>\n",
       "      <td>NaN</td>\n",
       "      <td>Forest fire near La Ronge Sask. Canada</td>\n",
       "      <td>1</td>\n",
       "    </tr>\n",
       "    <tr>\n",
       "      <th>5</th>\n",
       "      <td>NaN</td>\n",
       "      <td>NaN</td>\n",
       "      <td>All residents asked to 'shelter in place' are ...</td>\n",
       "      <td>1</td>\n",
       "    </tr>\n",
       "    <tr>\n",
       "      <th>6</th>\n",
       "      <td>NaN</td>\n",
       "      <td>NaN</td>\n",
       "      <td>13,000 people receive #wildfires evacuation or...</td>\n",
       "      <td>1</td>\n",
       "    </tr>\n",
       "    <tr>\n",
       "      <th>7</th>\n",
       "      <td>NaN</td>\n",
       "      <td>NaN</td>\n",
       "      <td>Just got sent this photo from Ruby #Alaska as ...</td>\n",
       "      <td>1</td>\n",
       "    </tr>\n",
       "    <tr>\n",
       "      <th>...</th>\n",
       "      <td>...</td>\n",
       "      <td>...</td>\n",
       "      <td>...</td>\n",
       "      <td>...</td>\n",
       "    </tr>\n",
       "    <tr>\n",
       "      <th>10869</th>\n",
       "      <td>NaN</td>\n",
       "      <td>NaN</td>\n",
       "      <td>Two giant cranes holding a bridge collapse int...</td>\n",
       "      <td>1</td>\n",
       "    </tr>\n",
       "    <tr>\n",
       "      <th>10870</th>\n",
       "      <td>NaN</td>\n",
       "      <td>NaN</td>\n",
       "      <td>@aria_ahrary @TheTawniest The out of control w...</td>\n",
       "      <td>1</td>\n",
       "    </tr>\n",
       "    <tr>\n",
       "      <th>10871</th>\n",
       "      <td>NaN</td>\n",
       "      <td>NaN</td>\n",
       "      <td>M1.94 [01:04 UTC]?5km S of Volcano Hawaii. htt...</td>\n",
       "      <td>1</td>\n",
       "    </tr>\n",
       "    <tr>\n",
       "      <th>10872</th>\n",
       "      <td>NaN</td>\n",
       "      <td>NaN</td>\n",
       "      <td>Police investigating after an e-bike collided ...</td>\n",
       "      <td>1</td>\n",
       "    </tr>\n",
       "    <tr>\n",
       "      <th>10873</th>\n",
       "      <td>NaN</td>\n",
       "      <td>NaN</td>\n",
       "      <td>The Latest: More Homes Razed by Northern Calif...</td>\n",
       "      <td>1</td>\n",
       "    </tr>\n",
       "  </tbody>\n",
       "</table>\n",
       "<p>7613 rows × 4 columns</p>\n",
       "</div>"
      ],
      "text/plain": [
       "      keyword location                                               text  \\\n",
       "id                                                                          \n",
       "1         NaN      NaN  Our Deeds are the Reason of this #earthquake M...   \n",
       "4         NaN      NaN             Forest fire near La Ronge Sask. Canada   \n",
       "5         NaN      NaN  All residents asked to 'shelter in place' are ...   \n",
       "6         NaN      NaN  13,000 people receive #wildfires evacuation or...   \n",
       "7         NaN      NaN  Just got sent this photo from Ruby #Alaska as ...   \n",
       "...       ...      ...                                                ...   \n",
       "10869     NaN      NaN  Two giant cranes holding a bridge collapse int...   \n",
       "10870     NaN      NaN  @aria_ahrary @TheTawniest The out of control w...   \n",
       "10871     NaN      NaN  M1.94 [01:04 UTC]?5km S of Volcano Hawaii. htt...   \n",
       "10872     NaN      NaN  Police investigating after an e-bike collided ...   \n",
       "10873     NaN      NaN  The Latest: More Homes Razed by Northern Calif...   \n",
       "\n",
       "       target  \n",
       "id             \n",
       "1           1  \n",
       "4           1  \n",
       "5           1  \n",
       "6           1  \n",
       "7           1  \n",
       "...       ...  \n",
       "10869       1  \n",
       "10870       1  \n",
       "10871       1  \n",
       "10872       1  \n",
       "10873       1  \n",
       "\n",
       "[7613 rows x 4 columns]"
      ]
     },
     "execution_count": 2,
     "metadata": {},
     "output_type": "execute_result"
    }
   ],
   "source": [
    "Data = pd.read_csv('/home/utk.edu/cliu89/Data/DisasterTweets/train.csv', index_col='id')\n",
    "Data"
   ]
  },
  {
   "cell_type": "code",
   "execution_count": 3,
   "id": "3aa62e56-b479-448f-957b-8e25c3003f63",
   "metadata": {
    "execution": {
     "iopub.execute_input": "2022-10-20T03:59:56.793387Z",
     "iopub.status.busy": "2022-10-20T03:59:56.793213Z",
     "iopub.status.idle": "2022-10-20T03:59:56.801405Z",
     "shell.execute_reply": "2022-10-20T03:59:56.800615Z",
     "shell.execute_reply.started": "2022-10-20T03:59:56.793371Z"
    },
    "tags": []
   },
   "outputs": [],
   "source": [
    "Data['keyword'] = Data.keyword.str.strip()\n",
    "Data['location'] = Data.location.str.strip()"
   ]
  },
  {
   "cell_type": "markdown",
   "id": "088a543a-3126-4133-9545-7f5ee5a8e180",
   "metadata": {
    "tags": []
   },
   "source": [
    "# Keyword"
   ]
  },
  {
   "cell_type": "code",
   "execution_count": 4,
   "id": "519b6cf7-e5d2-4d20-80ec-4f5bfd605f70",
   "metadata": {
    "execution": {
     "iopub.execute_input": "2022-10-20T03:59:56.803128Z",
     "iopub.status.busy": "2022-10-20T03:59:56.802713Z",
     "iopub.status.idle": "2022-10-20T03:59:56.809139Z",
     "shell.execute_reply": "2022-10-20T03:59:56.808399Z",
     "shell.execute_reply.started": "2022-10-20T03:59:56.803112Z"
    },
    "tags": []
   },
   "outputs": [
    {
     "data": {
      "text/plain": [
       "NaN                      61\n",
       "fatalities               45\n",
       "deluge                   42\n",
       "armageddon               42\n",
       "sinking                  41\n",
       "                         ..\n",
       "forest%20fire            19\n",
       "epicentre                12\n",
       "threat                   11\n",
       "inundation               10\n",
       "radiation%20emergency     9\n",
       "Name: keyword, Length: 222, dtype: int64"
      ]
     },
     "execution_count": 4,
     "metadata": {},
     "output_type": "execute_result"
    }
   ],
   "source": [
    "keyword_counts = Data.keyword.value_counts(dropna=False)\n",
    "keyword_counts"
   ]
  },
  {
   "cell_type": "code",
   "execution_count": 5,
   "id": "9e702a3d-228e-46d6-8d78-f6601390f316",
   "metadata": {
    "execution": {
     "iopub.execute_input": "2022-10-20T03:59:56.809996Z",
     "iopub.status.busy": "2022-10-20T03:59:56.809822Z",
     "iopub.status.idle": "2022-10-20T03:59:56.815788Z",
     "shell.execute_reply": "2022-10-20T03:59:56.815043Z",
     "shell.execute_reply.started": "2022-10-20T03:59:56.809981Z"
    },
    "tags": []
   },
   "outputs": [
    {
     "data": {
      "text/plain": [
       "NaN                        0\n",
       "fatalities                 1\n",
       "deluge                     2\n",
       "armageddon                 3\n",
       "sinking                    4\n",
       "                        ... \n",
       "forest%20fire            217\n",
       "epicentre                218\n",
       "threat                   219\n",
       "inundation               220\n",
       "radiation%20emergency    221\n",
       "Length: 222, dtype: int64"
      ]
     },
     "execution_count": 5,
     "metadata": {},
     "output_type": "execute_result"
    }
   ],
   "source": [
    "keyword_index = pd.Series(range(len(keyword_counts)), index=keyword_counts.index)\n",
    "keyword_index"
   ]
  },
  {
   "cell_type": "code",
   "execution_count": 6,
   "id": "8b9e3b56-322c-4177-a0fc-7a7ad197d017",
   "metadata": {
    "execution": {
     "iopub.execute_input": "2022-10-20T03:59:56.816817Z",
     "iopub.status.busy": "2022-10-20T03:59:56.816545Z",
     "iopub.status.idle": "2022-10-20T03:59:56.822997Z",
     "shell.execute_reply": "2022-10-20T03:59:56.822250Z",
     "shell.execute_reply.started": "2022-10-20T03:59:56.816801Z"
    },
    "tags": []
   },
   "outputs": [
    {
     "data": {
      "text/plain": [
       "id\n",
       "1        0\n",
       "4        0\n",
       "5        0\n",
       "6        0\n",
       "7        0\n",
       "        ..\n",
       "10869    0\n",
       "10870    0\n",
       "10871    0\n",
       "10872    0\n",
       "10873    0\n",
       "Name: keyword, Length: 7613, dtype: int64"
      ]
     },
     "execution_count": 6,
     "metadata": {},
     "output_type": "execute_result"
    }
   ],
   "source": [
    "keyword_encoded = Data.keyword.map(keyword_index)\n",
    "keyword_encoded"
   ]
  },
  {
   "cell_type": "code",
   "execution_count": 7,
   "id": "8fde62f2-f525-4fe3-94f8-fab4d049195e",
   "metadata": {
    "execution": {
     "iopub.execute_input": "2022-10-20T03:59:56.824208Z",
     "iopub.status.busy": "2022-10-20T03:59:56.823755Z",
     "iopub.status.idle": "2022-10-20T03:59:56.829671Z",
     "shell.execute_reply": "2022-10-20T03:59:56.828920Z",
     "shell.execute_reply.started": "2022-10-20T03:59:56.824192Z"
    },
    "tags": []
   },
   "outputs": [
    {
     "data": {
      "text/plain": [
       "0      61\n",
       "1      45\n",
       "2      42\n",
       "3      42\n",
       "4      41\n",
       "       ..\n",
       "217    19\n",
       "218    12\n",
       "219    11\n",
       "220    10\n",
       "221     9\n",
       "Name: keyword, Length: 222, dtype: int64"
      ]
     },
     "execution_count": 7,
     "metadata": {},
     "output_type": "execute_result"
    }
   ],
   "source": [
    "keyword_encoded.value_counts()"
   ]
  },
  {
   "cell_type": "markdown",
   "id": "004cc171-566f-4d70-a89d-87471bd7782d",
   "metadata": {
    "jp-MarkdownHeadingCollapsed": true,
    "tags": []
   },
   "source": [
    "# Location"
   ]
  },
  {
   "cell_type": "code",
   "execution_count": 8,
   "id": "f772f1ac-116f-4534-a9f8-a3ab7ae79ee5",
   "metadata": {
    "execution": {
     "iopub.execute_input": "2022-10-20T03:59:56.830694Z",
     "iopub.status.busy": "2022-10-20T03:59:56.830521Z",
     "iopub.status.idle": "2022-10-20T03:59:56.837441Z",
     "shell.execute_reply": "2022-10-20T03:59:56.836706Z",
     "shell.execute_reply.started": "2022-10-20T03:59:56.830679Z"
    },
    "tags": []
   },
   "outputs": [
    {
     "data": {
      "text/plain": [
       "NaN                               2533\n",
       "USA                                105\n",
       "New York                            73\n",
       "United States                       50\n",
       "London                              46\n",
       "                                  ... \n",
       "Layang-Layang, Perak                 1\n",
       "somewhere in Indiana                 1\n",
       "Inside your webcam. Stop that.       1\n",
       "R'lyeh, South Pacific                1\n",
       "Lincoln                              1\n",
       "Name: location, Length: 3280, dtype: int64"
      ]
     },
     "execution_count": 8,
     "metadata": {},
     "output_type": "execute_result"
    }
   ],
   "source": [
    "location_counts = Data.location.value_counts(dropna=False)\n",
    "location_counts"
   ]
  },
  {
   "cell_type": "code",
   "execution_count": 9,
   "id": "61352465-e62a-456c-a800-7dad627642ab",
   "metadata": {
    "execution": {
     "iopub.execute_input": "2022-10-20T03:59:56.838284Z",
     "iopub.status.busy": "2022-10-20T03:59:56.838107Z",
     "iopub.status.idle": "2022-10-20T03:59:56.843761Z",
     "shell.execute_reply": "2022-10-20T03:59:56.843041Z",
     "shell.execute_reply.started": "2022-10-20T03:59:56.838269Z"
    },
    "tags": []
   },
   "outputs": [
    {
     "data": {
      "text/plain": [
       "NaN                  2533\n",
       "USA                   105\n",
       "New York               73\n",
       "United States          50\n",
       "London                 46\n",
       "Nigeria                32\n",
       "Canada                 30\n",
       "UK                     27\n",
       "Los Angeles, CA        26\n",
       "India                  24\n",
       "Mumbai                 22\n",
       "Washington, DC         21\n",
       "Kenya                  20\n",
       "California             20\n",
       "Worldwide              19\n",
       "Chicago, IL            19\n",
       "Australia              19\n",
       "New York, NY           16\n",
       "Everywhere             15\n",
       "California, USA        15\n",
       "Los Angeles            15\n",
       "Washington, D.C.       14\n",
       "Indonesia              14\n",
       "United Kingdom         14\n",
       "San Francisco          14\n",
       "Florida                14\n",
       "NYC                    12\n",
       "Earth                  12\n",
       "Toronto                12\n",
       "Ireland                12\n",
       "Chicago                11\n",
       "Texas                  11\n",
       "San Francisco, CA      11\n",
       "Seattle                11\n",
       "London, UK             10\n",
       "London, England        10\n",
       "Dallas, TX             10\n",
       "Sacramento, CA         10\n",
       "ss                     10\n",
       "Atlanta, GA            10\n",
       "New York City          10\n",
       "Name: location, dtype: int64"
      ]
     },
     "execution_count": 9,
     "metadata": {},
     "output_type": "execute_result"
    }
   ],
   "source": [
    "location_counts = location_counts[location_counts>=10]\n",
    "location_counts"
   ]
  },
  {
   "cell_type": "code",
   "execution_count": 10,
   "id": "a94a1da5-e3f1-4f4b-94d5-76b4a2abeb4a",
   "metadata": {
    "execution": {
     "iopub.execute_input": "2022-10-20T03:59:56.846283Z",
     "iopub.status.busy": "2022-10-20T03:59:56.845818Z",
     "iopub.status.idle": "2022-10-20T03:59:56.851453Z",
     "shell.execute_reply": "2022-10-20T03:59:56.850708Z",
     "shell.execute_reply.started": "2022-10-20T03:59:56.846267Z"
    },
    "tags": []
   },
   "outputs": [
    {
     "data": {
      "text/plain": [
       "NaN                   0\n",
       "USA                   1\n",
       "New York              2\n",
       "United States         3\n",
       "London                4\n",
       "Nigeria               5\n",
       "Canada                6\n",
       "UK                    7\n",
       "Los Angeles, CA       8\n",
       "India                 9\n",
       "Mumbai               10\n",
       "Washington, DC       11\n",
       "Kenya                12\n",
       "California           13\n",
       "Worldwide            14\n",
       "Chicago, IL          15\n",
       "Australia            16\n",
       "New York, NY         17\n",
       "Everywhere           18\n",
       "California, USA      19\n",
       "Los Angeles          20\n",
       "Washington, D.C.     21\n",
       "Indonesia            22\n",
       "United Kingdom       23\n",
       "San Francisco        24\n",
       "Florida              25\n",
       "NYC                  26\n",
       "Earth                27\n",
       "Toronto              28\n",
       "Ireland              29\n",
       "Chicago              30\n",
       "Texas                31\n",
       "San Francisco, CA    32\n",
       "Seattle              33\n",
       "London, UK           34\n",
       "London, England      35\n",
       "Dallas, TX           36\n",
       "Sacramento, CA       37\n",
       "ss                   38\n",
       "Atlanta, GA          39\n",
       "New York City        40\n",
       "dtype: int64"
      ]
     },
     "execution_count": 10,
     "metadata": {},
     "output_type": "execute_result"
    }
   ],
   "source": [
    "location_index = pd.Series(range(len(location_counts)), index=location_counts.index)\n",
    "location_index"
   ]
  },
  {
   "cell_type": "code",
   "execution_count": 11,
   "id": "80f2193e-d9b5-4b02-8c74-c5a5a14d2126",
   "metadata": {
    "execution": {
     "iopub.execute_input": "2022-10-20T03:59:56.852587Z",
     "iopub.status.busy": "2022-10-20T03:59:56.852272Z",
     "iopub.status.idle": "2022-10-20T03:59:56.858840Z",
     "shell.execute_reply": "2022-10-20T03:59:56.858117Z",
     "shell.execute_reply.started": "2022-10-20T03:59:56.852571Z"
    },
    "tags": []
   },
   "outputs": [
    {
     "data": {
      "text/plain": [
       "id\n",
       "1        0\n",
       "4        0\n",
       "5        0\n",
       "6        0\n",
       "7        0\n",
       "        ..\n",
       "10869    0\n",
       "10870    0\n",
       "10871    0\n",
       "10872    0\n",
       "10873    0\n",
       "Name: location, Length: 7613, dtype: int64"
      ]
     },
     "execution_count": 11,
     "metadata": {},
     "output_type": "execute_result"
    }
   ],
   "source": [
    "location_encoded = Data.location.map(location_index).fillna(0).astype(int)\n",
    "location_encoded"
   ]
  },
  {
   "cell_type": "code",
   "execution_count": 12,
   "id": "ea2d82fd-e86a-49a4-a64d-2cb51e2828db",
   "metadata": {
    "execution": {
     "iopub.execute_input": "2022-10-20T03:59:56.860053Z",
     "iopub.status.busy": "2022-10-20T03:59:56.859594Z",
     "iopub.status.idle": "2022-10-20T03:59:56.865127Z",
     "shell.execute_reply": "2022-10-20T03:59:56.864411Z",
     "shell.execute_reply.started": "2022-10-20T03:59:56.860036Z"
    },
    "tags": []
   },
   "outputs": [
    {
     "data": {
      "text/plain": [
       "0     6767\n",
       "1      105\n",
       "2       73\n",
       "3       50\n",
       "4       46\n",
       "5       32\n",
       "6       30\n",
       "7       27\n",
       "8       26\n",
       "9       24\n",
       "10      22\n",
       "11      21\n",
       "12      20\n",
       "13      20\n",
       "15      19\n",
       "14      19\n",
       "16      19\n",
       "17      16\n",
       "19      15\n",
       "18      15\n",
       "20      15\n",
       "21      14\n",
       "22      14\n",
       "24      14\n",
       "23      14\n",
       "25      14\n",
       "28      12\n",
       "26      12\n",
       "29      12\n",
       "27      12\n",
       "33      11\n",
       "32      11\n",
       "30      11\n",
       "31      11\n",
       "39      10\n",
       "36      10\n",
       "38      10\n",
       "34      10\n",
       "40      10\n",
       "37      10\n",
       "35      10\n",
       "Name: location, dtype: int64"
      ]
     },
     "execution_count": 12,
     "metadata": {},
     "output_type": "execute_result"
    }
   ],
   "source": [
    "location_encoded.value_counts()"
   ]
  },
  {
   "cell_type": "markdown",
   "id": "9b55d1bb-57d0-464f-a77f-18800bacc819",
   "metadata": {
    "tags": []
   },
   "source": [
    "# Text"
   ]
  },
  {
   "cell_type": "code",
   "execution_count": 13,
   "id": "e5aec554-2c89-4f99-b6e3-729e4b85886b",
   "metadata": {
    "execution": {
     "iopub.execute_input": "2022-10-20T03:59:56.866191Z",
     "iopub.status.busy": "2022-10-20T03:59:56.865852Z",
     "iopub.status.idle": "2022-10-20T03:59:58.018150Z",
     "shell.execute_reply": "2022-10-20T03:59:58.017428Z",
     "shell.execute_reply.started": "2022-10-20T03:59:56.866176Z"
    },
    "tags": []
   },
   "outputs": [
    {
     "data": {
      "text/plain": [
       "id\n",
       "1        [our, deeds, are, the, reason, of, this, #, ea...\n",
       "4         [forest, fire, near, la, ronge, sask, ., canada]\n",
       "5        [all, residents, asked, to, 'shelter, in, plac...\n",
       "6        [13,000, people, receive, #, wildfires, evacua...\n",
       "7        [just, got, sent, this, photo, from, ruby, #, ...\n",
       "                               ...                        \n",
       "10869    [two, giant, cranes, holding, a, bridge, colla...\n",
       "10870    [@, aria_ahrary, @, thetawniest, the, out, of,...\n",
       "10871    [m1.94, [, 01:04, utc, ], ?, 5km, s, of, volca...\n",
       "10872    [police, investigating, after, an, e-bike, col...\n",
       "10873    [the, latest, :, more, homes, razed, by, north...\n",
       "Name: text, Length: 7613, dtype: object"
      ]
     },
     "execution_count": 13,
     "metadata": {},
     "output_type": "execute_result"
    }
   ],
   "source": [
    "def text_tokenize(text):\n",
    "    text = text.lower()\n",
    "    text = word_tokenize(text)\n",
    "    return text\n",
    "\n",
    "text_tokenized = Data.text.map(text_tokenize)\n",
    "text_tokenized"
   ]
  },
  {
   "cell_type": "code",
   "execution_count": 14,
   "id": "1565ff1b-35c1-4106-b133-4357be0f4bef",
   "metadata": {
    "execution": {
     "iopub.execute_input": "2022-10-20T03:59:58.019169Z",
     "iopub.status.busy": "2022-10-20T03:59:58.018906Z",
     "iopub.status.idle": "2022-10-20T03:59:58.046514Z",
     "shell.execute_reply": "2022-10-20T03:59:58.045783Z",
     "shell.execute_reply.started": "2022-10-20T03:59:58.019153Z"
    },
    "tags": []
   },
   "outputs": [
    {
     "data": {
      "text/plain": [
       "//t.co/lbmekyphm5.pls       1\n",
       "cristiano                   1\n",
       "keen                        1\n",
       "talisman                    1\n",
       "//t.co/y8xknpqmnj           1\n",
       "                         ... \n",
       "?                        3126\n",
       "the                      3233\n",
       "#                        3403\n",
       "http                     4307\n",
       ":                        6706\n",
       "Length: 23068, dtype: int64"
      ]
     },
     "execution_count": 14,
     "metadata": {},
     "output_type": "execute_result"
    }
   ],
   "source": [
    "token_counts = collections.Counter(itertools.chain(*text_tokenized))\n",
    "token_counts = pd.Series(token_counts)\n",
    "token_counts = token_counts.sort_values()\n",
    "token_counts"
   ]
  },
  {
   "cell_type": "code",
   "execution_count": 15,
   "id": "dc53aee6-d56d-4555-98c4-534739642770",
   "metadata": {
    "execution": {
     "iopub.execute_input": "2022-10-20T03:59:58.047505Z",
     "iopub.status.busy": "2022-10-20T03:59:58.047266Z",
     "iopub.status.idle": "2022-10-20T03:59:58.053296Z",
     "shell.execute_reply": "2022-10-20T03:59:58.052566Z",
     "shell.execute_reply.started": "2022-10-20T03:59:58.047489Z"
    },
    "tags": []
   },
   "outputs": [
    {
     "data": {
      "text/plain": [
       "handbags      10\n",
       "hi            10\n",
       "hospital      10\n",
       "avoid         10\n",
       "woke          10\n",
       "            ... \n",
       "?           3126\n",
       "the         3233\n",
       "#           3403\n",
       "http        4307\n",
       ":           6706\n",
       "Length: 1589, dtype: int64"
      ]
     },
     "execution_count": 15,
     "metadata": {},
     "output_type": "execute_result"
    }
   ],
   "source": [
    "token_counts = token_counts[token_counts>=10]\n",
    "token_counts"
   ]
  },
  {
   "cell_type": "code",
   "execution_count": 16,
   "id": "854f62de-d3cb-4c69-926a-7cd2a34957cf",
   "metadata": {
    "execution": {
     "iopub.execute_input": "2022-10-20T03:59:58.054283Z",
     "iopub.status.busy": "2022-10-20T03:59:58.054047Z",
     "iopub.status.idle": "2022-10-20T03:59:58.060145Z",
     "shell.execute_reply": "2022-10-20T03:59:58.059417Z",
     "shell.execute_reply.started": "2022-10-20T03:59:58.054267Z"
    },
    "tags": []
   },
   "outputs": [
    {
     "data": {
      "text/plain": [
       "handbags       1\n",
       "hi             2\n",
       "hospital       3\n",
       "avoid          4\n",
       "woke           5\n",
       "            ... \n",
       "?           1585\n",
       "the         1586\n",
       "#           1587\n",
       "http        1588\n",
       ":           1589\n",
       "Length: 1589, dtype: int64"
      ]
     },
     "execution_count": 16,
     "metadata": {},
     "output_type": "execute_result"
    }
   ],
   "source": [
    "token_index = pd.Series(range(1, 1+len(token_counts)), index=token_counts.index)\n",
    "token_index"
   ]
  },
  {
   "cell_type": "code",
   "execution_count": 17,
   "id": "a8ad0f5e-ca54-4066-8606-2b5cb7ff8c25",
   "metadata": {
    "execution": {
     "iopub.execute_input": "2022-10-20T03:59:58.061126Z",
     "iopub.status.busy": "2022-10-20T03:59:58.060892Z",
     "iopub.status.idle": "2022-10-20T03:59:58.462641Z",
     "shell.execute_reply": "2022-10-20T03:59:58.461923Z",
     "shell.execute_reply.started": "2022-10-20T03:59:58.061111Z"
    },
    "tags": []
   },
   "outputs": [
    {
     "data": {
      "text/plain": [
       "id\n",
       "1        [1454, 1556, 1586, 711, 1579, 1560, 1587, 1308...\n",
       "4                       [1386, 1529, 1339, 761, 1584, 328]\n",
       "5        [1533, 1580, 1581, 904, 1567, 1556, 1444, 1561...\n",
       "6                  [1516, 1587, 85, 1315, 168, 1581, 1481]\n",
       "7        [1542, 1488, 355, 1560, 1232, 1557, 1587, 1546...\n",
       "                               ...                        \n",
       "10869    [1455, 748, 276, 505, 1582, 1217, 1415, 1507, ...\n",
       "10870    [1583, 1583, 1586, 1538, 1579, 850, 1307, 1459...\n",
       "10871    [1496, 10, 1495, 1585, 25, 1299, 1579, 993, 22...\n",
       "10872    [1499, 499, 1534, 1530, 1250, 1563, 1582, 1442...\n",
       "10873    [1586, 1365, 1589, 1519, 1372, 1042, 1561, 138...\n",
       "Name: text, Length: 7613, dtype: object"
      ]
     },
     "execution_count": 17,
     "metadata": {},
     "output_type": "execute_result"
    }
   ],
   "source": [
    "def text_index(tokens):\n",
    "    return [token_index[token] for token in tokens if token in token_index]\n",
    "\n",
    "text_encoded = text_tokenized.map(text_index)\n",
    "text_encoded"
   ]
  },
  {
   "cell_type": "code",
   "execution_count": 18,
   "id": "09a63d7f-66fa-4375-8ffa-f82bcdee5d48",
   "metadata": {
    "execution": {
     "iopub.execute_input": "2022-10-20T03:59:58.463572Z",
     "iopub.status.busy": "2022-10-20T03:59:58.463397Z",
     "iopub.status.idle": "2022-10-20T03:59:58.472189Z",
     "shell.execute_reply": "2022-10-20T03:59:58.471471Z",
     "shell.execute_reply.started": "2022-10-20T03:59:58.463556Z"
    },
    "tags": []
   },
   "outputs": [
    {
     "data": {
      "text/plain": [
       "count    7613.000000\n",
       "mean       14.359123\n",
       "std         6.061323\n",
       "min         0.000000\n",
       "25%        10.000000\n",
       "50%        14.000000\n",
       "75%        18.000000\n",
       "max        67.000000\n",
       "Name: text, dtype: float64"
      ]
     },
     "execution_count": 18,
     "metadata": {},
     "output_type": "execute_result"
    }
   ],
   "source": [
    "text_encoded.map(len).describe()"
   ]
  },
  {
   "cell_type": "code",
   "execution_count": 19,
   "id": "0ebc1a5f-1d77-4298-a3d8-e0c9b9596ecc",
   "metadata": {
    "execution": {
     "iopub.execute_input": "2022-10-20T03:59:58.473184Z",
     "iopub.status.busy": "2022-10-20T03:59:58.472940Z",
     "iopub.status.idle": "2022-10-20T03:59:58.490135Z",
     "shell.execute_reply": "2022-10-20T03:59:58.489398Z",
     "shell.execute_reply.started": "2022-10-20T03:59:58.473168Z"
    },
    "tags": []
   },
   "outputs": [
    {
     "data": {
      "text/plain": [
       "id\n",
       "1        [1454, 1556, 1586, 711, 1579, 1560, 1587, 1308...\n",
       "4        [1386, 1529, 1339, 761, 1584, 328, 0, 0, 0, 0,...\n",
       "5        [1533, 1580, 1581, 904, 1567, 1556, 1444, 1561...\n",
       "6        [1516, 1587, 85, 1315, 168, 1581, 1481, 0, 0, ...\n",
       "7        [1542, 1488, 355, 1560, 1232, 1557, 1587, 1546...\n",
       "                               ...                        \n",
       "10869    [1455, 748, 276, 505, 1582, 1217, 1415, 1507, ...\n",
       "10870    [1583, 1583, 1586, 1538, 1579, 850, 1307, 1459...\n",
       "10871    [1496, 10, 1495, 1585, 25, 1299, 1579, 993, 22...\n",
       "10872    [1499, 499, 1534, 1530, 1250, 1563, 1582, 1442...\n",
       "10873    [1586, 1365, 1589, 1519, 1372, 1042, 1561, 138...\n",
       "Name: text, Length: 7613, dtype: object"
      ]
     },
     "execution_count": 19,
     "metadata": {},
     "output_type": "execute_result"
    }
   ],
   "source": [
    "def text_pad(tokens, size=67, idx=0):\n",
    "    return tokens + [idx] * (size - len(tokens))\n",
    "\n",
    "text_encoded = text_encoded.map(text_pad)\n",
    "text_encoded"
   ]
  },
  {
   "cell_type": "code",
   "execution_count": 20,
   "id": "ff26cb66-5918-4fe8-9c50-d6cda64e8e8e",
   "metadata": {
    "execution": {
     "iopub.execute_input": "2022-10-20T03:59:58.491119Z",
     "iopub.status.busy": "2022-10-20T03:59:58.490881Z",
     "iopub.status.idle": "2022-10-20T03:59:58.596747Z",
     "shell.execute_reply": "2022-10-20T03:59:58.596013Z",
     "shell.execute_reply.started": "2022-10-20T03:59:58.491104Z"
    },
    "tags": []
   },
   "outputs": [
    {
     "data": {
      "text/html": [
       "<div>\n",
       "<style scoped>\n",
       "    .dataframe tbody tr th:only-of-type {\n",
       "        vertical-align: middle;\n",
       "    }\n",
       "\n",
       "    .dataframe tbody tr th {\n",
       "        vertical-align: top;\n",
       "    }\n",
       "\n",
       "    .dataframe thead th {\n",
       "        text-align: right;\n",
       "    }\n",
       "</style>\n",
       "<table border=\"1\" class=\"dataframe\">\n",
       "  <thead>\n",
       "    <tr style=\"text-align: right;\">\n",
       "      <th></th>\n",
       "      <th>0</th>\n",
       "      <th>1</th>\n",
       "      <th>2</th>\n",
       "      <th>3</th>\n",
       "      <th>4</th>\n",
       "      <th>5</th>\n",
       "      <th>6</th>\n",
       "      <th>7</th>\n",
       "      <th>8</th>\n",
       "      <th>9</th>\n",
       "      <th>...</th>\n",
       "      <th>57</th>\n",
       "      <th>58</th>\n",
       "      <th>59</th>\n",
       "      <th>60</th>\n",
       "      <th>61</th>\n",
       "      <th>62</th>\n",
       "      <th>63</th>\n",
       "      <th>64</th>\n",
       "      <th>65</th>\n",
       "      <th>66</th>\n",
       "    </tr>\n",
       "    <tr>\n",
       "      <th>id</th>\n",
       "      <th></th>\n",
       "      <th></th>\n",
       "      <th></th>\n",
       "      <th></th>\n",
       "      <th></th>\n",
       "      <th></th>\n",
       "      <th></th>\n",
       "      <th></th>\n",
       "      <th></th>\n",
       "      <th></th>\n",
       "      <th></th>\n",
       "      <th></th>\n",
       "      <th></th>\n",
       "      <th></th>\n",
       "      <th></th>\n",
       "      <th></th>\n",
       "      <th></th>\n",
       "      <th></th>\n",
       "      <th></th>\n",
       "      <th></th>\n",
       "      <th></th>\n",
       "    </tr>\n",
       "  </thead>\n",
       "  <tbody>\n",
       "    <tr>\n",
       "      <th>1</th>\n",
       "      <td>1454</td>\n",
       "      <td>1556</td>\n",
       "      <td>1586</td>\n",
       "      <td>711</td>\n",
       "      <td>1579</td>\n",
       "      <td>1560</td>\n",
       "      <td>1587</td>\n",
       "      <td>1308</td>\n",
       "      <td>1435</td>\n",
       "      <td>1487</td>\n",
       "      <td>...</td>\n",
       "      <td>0</td>\n",
       "      <td>0</td>\n",
       "      <td>0</td>\n",
       "      <td>0</td>\n",
       "      <td>0</td>\n",
       "      <td>0</td>\n",
       "      <td>0</td>\n",
       "      <td>0</td>\n",
       "      <td>0</td>\n",
       "      <td>0</td>\n",
       "    </tr>\n",
       "    <tr>\n",
       "      <th>4</th>\n",
       "      <td>1386</td>\n",
       "      <td>1529</td>\n",
       "      <td>1339</td>\n",
       "      <td>761</td>\n",
       "      <td>1584</td>\n",
       "      <td>328</td>\n",
       "      <td>0</td>\n",
       "      <td>0</td>\n",
       "      <td>0</td>\n",
       "      <td>0</td>\n",
       "      <td>...</td>\n",
       "      <td>0</td>\n",
       "      <td>0</td>\n",
       "      <td>0</td>\n",
       "      <td>0</td>\n",
       "      <td>0</td>\n",
       "      <td>0</td>\n",
       "      <td>0</td>\n",
       "      <td>0</td>\n",
       "      <td>0</td>\n",
       "      <td>0</td>\n",
       "    </tr>\n",
       "    <tr>\n",
       "      <th>5</th>\n",
       "      <td>1533</td>\n",
       "      <td>1580</td>\n",
       "      <td>1581</td>\n",
       "      <td>904</td>\n",
       "      <td>1567</td>\n",
       "      <td>1556</td>\n",
       "      <td>1444</td>\n",
       "      <td>1561</td>\n",
       "      <td>1584</td>\n",
       "      <td>1532</td>\n",
       "      <td>...</td>\n",
       "      <td>0</td>\n",
       "      <td>0</td>\n",
       "      <td>0</td>\n",
       "      <td>0</td>\n",
       "      <td>0</td>\n",
       "      <td>0</td>\n",
       "      <td>0</td>\n",
       "      <td>0</td>\n",
       "      <td>0</td>\n",
       "      <td>0</td>\n",
       "    </tr>\n",
       "    <tr>\n",
       "      <th>6</th>\n",
       "      <td>1516</td>\n",
       "      <td>1587</td>\n",
       "      <td>85</td>\n",
       "      <td>1315</td>\n",
       "      <td>168</td>\n",
       "      <td>1581</td>\n",
       "      <td>1481</td>\n",
       "      <td>0</td>\n",
       "      <td>0</td>\n",
       "      <td>0</td>\n",
       "      <td>...</td>\n",
       "      <td>0</td>\n",
       "      <td>0</td>\n",
       "      <td>0</td>\n",
       "      <td>0</td>\n",
       "      <td>0</td>\n",
       "      <td>0</td>\n",
       "      <td>0</td>\n",
       "      <td>0</td>\n",
       "      <td>0</td>\n",
       "      <td>0</td>\n",
       "    </tr>\n",
       "    <tr>\n",
       "      <th>7</th>\n",
       "      <td>1542</td>\n",
       "      <td>1488</td>\n",
       "      <td>355</td>\n",
       "      <td>1560</td>\n",
       "      <td>1232</td>\n",
       "      <td>1557</td>\n",
       "      <td>1587</td>\n",
       "      <td>1546</td>\n",
       "      <td>1309</td>\n",
       "      <td>1557</td>\n",
       "      <td>...</td>\n",
       "      <td>0</td>\n",
       "      <td>0</td>\n",
       "      <td>0</td>\n",
       "      <td>0</td>\n",
       "      <td>0</td>\n",
       "      <td>0</td>\n",
       "      <td>0</td>\n",
       "      <td>0</td>\n",
       "      <td>0</td>\n",
       "      <td>0</td>\n",
       "    </tr>\n",
       "    <tr>\n",
       "      <th>...</th>\n",
       "      <td>...</td>\n",
       "      <td>...</td>\n",
       "      <td>...</td>\n",
       "      <td>...</td>\n",
       "      <td>...</td>\n",
       "      <td>...</td>\n",
       "      <td>...</td>\n",
       "      <td>...</td>\n",
       "      <td>...</td>\n",
       "      <td>...</td>\n",
       "      <td>...</td>\n",
       "      <td>...</td>\n",
       "      <td>...</td>\n",
       "      <td>...</td>\n",
       "      <td>...</td>\n",
       "      <td>...</td>\n",
       "      <td>...</td>\n",
       "      <td>...</td>\n",
       "      <td>...</td>\n",
       "      <td>...</td>\n",
       "      <td>...</td>\n",
       "    </tr>\n",
       "    <tr>\n",
       "      <th>10869</th>\n",
       "      <td>1455</td>\n",
       "      <td>748</td>\n",
       "      <td>276</td>\n",
       "      <td>505</td>\n",
       "      <td>1582</td>\n",
       "      <td>1217</td>\n",
       "      <td>1415</td>\n",
       "      <td>1507</td>\n",
       "      <td>917</td>\n",
       "      <td>1372</td>\n",
       "      <td>...</td>\n",
       "      <td>0</td>\n",
       "      <td>0</td>\n",
       "      <td>0</td>\n",
       "      <td>0</td>\n",
       "      <td>0</td>\n",
       "      <td>0</td>\n",
       "      <td>0</td>\n",
       "      <td>0</td>\n",
       "      <td>0</td>\n",
       "      <td>0</td>\n",
       "    </tr>\n",
       "    <tr>\n",
       "      <th>10870</th>\n",
       "      <td>1583</td>\n",
       "      <td>1583</td>\n",
       "      <td>1586</td>\n",
       "      <td>1538</td>\n",
       "      <td>1579</td>\n",
       "      <td>850</td>\n",
       "      <td>1307</td>\n",
       "      <td>1459</td>\n",
       "      <td>1581</td>\n",
       "      <td>1481</td>\n",
       "      <td>...</td>\n",
       "      <td>0</td>\n",
       "      <td>0</td>\n",
       "      <td>0</td>\n",
       "      <td>0</td>\n",
       "      <td>0</td>\n",
       "      <td>0</td>\n",
       "      <td>0</td>\n",
       "      <td>0</td>\n",
       "      <td>0</td>\n",
       "      <td>0</td>\n",
       "    </tr>\n",
       "    <tr>\n",
       "      <th>10871</th>\n",
       "      <td>1496</td>\n",
       "      <td>10</td>\n",
       "      <td>1495</td>\n",
       "      <td>1585</td>\n",
       "      <td>25</td>\n",
       "      <td>1299</td>\n",
       "      <td>1579</td>\n",
       "      <td>993</td>\n",
       "      <td>22</td>\n",
       "      <td>1584</td>\n",
       "      <td>...</td>\n",
       "      <td>0</td>\n",
       "      <td>0</td>\n",
       "      <td>0</td>\n",
       "      <td>0</td>\n",
       "      <td>0</td>\n",
       "      <td>0</td>\n",
       "      <td>0</td>\n",
       "      <td>0</td>\n",
       "      <td>0</td>\n",
       "      <td>0</td>\n",
       "    </tr>\n",
       "    <tr>\n",
       "      <th>10872</th>\n",
       "      <td>1499</td>\n",
       "      <td>499</td>\n",
       "      <td>1534</td>\n",
       "      <td>1530</td>\n",
       "      <td>1250</td>\n",
       "      <td>1563</td>\n",
       "      <td>1582</td>\n",
       "      <td>1442</td>\n",
       "      <td>1581</td>\n",
       "      <td>1295</td>\n",
       "      <td>...</td>\n",
       "      <td>0</td>\n",
       "      <td>0</td>\n",
       "      <td>0</td>\n",
       "      <td>0</td>\n",
       "      <td>0</td>\n",
       "      <td>0</td>\n",
       "      <td>0</td>\n",
       "      <td>0</td>\n",
       "      <td>0</td>\n",
       "      <td>0</td>\n",
       "    </tr>\n",
       "    <tr>\n",
       "      <th>10873</th>\n",
       "      <td>1586</td>\n",
       "      <td>1365</td>\n",
       "      <td>1589</td>\n",
       "      <td>1519</td>\n",
       "      <td>1372</td>\n",
       "      <td>1042</td>\n",
       "      <td>1561</td>\n",
       "      <td>1381</td>\n",
       "      <td>1481</td>\n",
       "      <td>1406</td>\n",
       "      <td>...</td>\n",
       "      <td>0</td>\n",
       "      <td>0</td>\n",
       "      <td>0</td>\n",
       "      <td>0</td>\n",
       "      <td>0</td>\n",
       "      <td>0</td>\n",
       "      <td>0</td>\n",
       "      <td>0</td>\n",
       "      <td>0</td>\n",
       "      <td>0</td>\n",
       "    </tr>\n",
       "  </tbody>\n",
       "</table>\n",
       "<p>7613 rows × 67 columns</p>\n",
       "</div>"
      ],
      "text/plain": [
       "         0     1     2     3     4     5     6     7     8     9   ...  57  \\\n",
       "id                                                                 ...       \n",
       "1      1454  1556  1586   711  1579  1560  1587  1308  1435  1487  ...   0   \n",
       "4      1386  1529  1339   761  1584   328     0     0     0     0  ...   0   \n",
       "5      1533  1580  1581   904  1567  1556  1444  1561  1584  1532  ...   0   \n",
       "6      1516  1587    85  1315   168  1581  1481     0     0     0  ...   0   \n",
       "7      1542  1488   355  1560  1232  1557  1587  1546  1309  1557  ...   0   \n",
       "...     ...   ...   ...   ...   ...   ...   ...   ...   ...   ...  ...  ..   \n",
       "10869  1455   748   276   505  1582  1217  1415  1507   917  1372  ...   0   \n",
       "10870  1583  1583  1586  1538  1579   850  1307  1459  1581  1481  ...   0   \n",
       "10871  1496    10  1495  1585    25  1299  1579   993    22  1584  ...   0   \n",
       "10872  1499   499  1534  1530  1250  1563  1582  1442  1581  1295  ...   0   \n",
       "10873  1586  1365  1589  1519  1372  1042  1561  1381  1481  1406  ...   0   \n",
       "\n",
       "       58  59  60  61  62  63  64  65  66  \n",
       "id                                         \n",
       "1       0   0   0   0   0   0   0   0   0  \n",
       "4       0   0   0   0   0   0   0   0   0  \n",
       "5       0   0   0   0   0   0   0   0   0  \n",
       "6       0   0   0   0   0   0   0   0   0  \n",
       "7       0   0   0   0   0   0   0   0   0  \n",
       "...    ..  ..  ..  ..  ..  ..  ..  ..  ..  \n",
       "10869   0   0   0   0   0   0   0   0   0  \n",
       "10870   0   0   0   0   0   0   0   0   0  \n",
       "10871   0   0   0   0   0   0   0   0   0  \n",
       "10872   0   0   0   0   0   0   0   0   0  \n",
       "10873   0   0   0   0   0   0   0   0   0  \n",
       "\n",
       "[7613 rows x 67 columns]"
      ]
     },
     "execution_count": 20,
     "metadata": {},
     "output_type": "execute_result"
    }
   ],
   "source": [
    "text_encoded = pd.DataFrame(text_encoded.to_list(), index=text_encoded.index)\n",
    "text_encoded"
   ]
  },
  {
   "cell_type": "markdown",
   "id": "4f3ce73d-5f50-4ccb-afae-542501307c0d",
   "metadata": {
    "jp-MarkdownHeadingCollapsed": true,
    "tags": []
   },
   "source": [
    "# Processed Data"
   ]
  },
  {
   "cell_type": "code",
   "execution_count": 21,
   "id": "b9e8b522-153a-4492-bbb1-ebf6bde55dd1",
   "metadata": {
    "execution": {
     "iopub.execute_input": "2022-10-20T03:59:58.597664Z",
     "iopub.status.busy": "2022-10-20T03:59:58.597496Z",
     "iopub.status.idle": "2022-10-20T03:59:58.613652Z",
     "shell.execute_reply": "2022-10-20T03:59:58.612930Z",
     "shell.execute_reply.started": "2022-10-20T03:59:58.597649Z"
    },
    "tags": []
   },
   "outputs": [
    {
     "data": {
      "text/html": [
       "<div>\n",
       "<style scoped>\n",
       "    .dataframe tbody tr th:only-of-type {\n",
       "        vertical-align: middle;\n",
       "    }\n",
       "\n",
       "    .dataframe tbody tr th {\n",
       "        vertical-align: top;\n",
       "    }\n",
       "\n",
       "    .dataframe thead th {\n",
       "        text-align: right;\n",
       "    }\n",
       "</style>\n",
       "<table border=\"1\" class=\"dataframe\">\n",
       "  <thead>\n",
       "    <tr style=\"text-align: right;\">\n",
       "      <th></th>\n",
       "      <th>keyword</th>\n",
       "      <th>location</th>\n",
       "      <th>0</th>\n",
       "      <th>1</th>\n",
       "      <th>2</th>\n",
       "      <th>3</th>\n",
       "      <th>4</th>\n",
       "      <th>5</th>\n",
       "      <th>6</th>\n",
       "      <th>7</th>\n",
       "      <th>...</th>\n",
       "      <th>57</th>\n",
       "      <th>58</th>\n",
       "      <th>59</th>\n",
       "      <th>60</th>\n",
       "      <th>61</th>\n",
       "      <th>62</th>\n",
       "      <th>63</th>\n",
       "      <th>64</th>\n",
       "      <th>65</th>\n",
       "      <th>66</th>\n",
       "    </tr>\n",
       "    <tr>\n",
       "      <th>id</th>\n",
       "      <th></th>\n",
       "      <th></th>\n",
       "      <th></th>\n",
       "      <th></th>\n",
       "      <th></th>\n",
       "      <th></th>\n",
       "      <th></th>\n",
       "      <th></th>\n",
       "      <th></th>\n",
       "      <th></th>\n",
       "      <th></th>\n",
       "      <th></th>\n",
       "      <th></th>\n",
       "      <th></th>\n",
       "      <th></th>\n",
       "      <th></th>\n",
       "      <th></th>\n",
       "      <th></th>\n",
       "      <th></th>\n",
       "      <th></th>\n",
       "      <th></th>\n",
       "    </tr>\n",
       "  </thead>\n",
       "  <tbody>\n",
       "    <tr>\n",
       "      <th>1</th>\n",
       "      <td>0</td>\n",
       "      <td>0</td>\n",
       "      <td>1454</td>\n",
       "      <td>1556</td>\n",
       "      <td>1586</td>\n",
       "      <td>711</td>\n",
       "      <td>1579</td>\n",
       "      <td>1560</td>\n",
       "      <td>1587</td>\n",
       "      <td>1308</td>\n",
       "      <td>...</td>\n",
       "      <td>0</td>\n",
       "      <td>0</td>\n",
       "      <td>0</td>\n",
       "      <td>0</td>\n",
       "      <td>0</td>\n",
       "      <td>0</td>\n",
       "      <td>0</td>\n",
       "      <td>0</td>\n",
       "      <td>0</td>\n",
       "      <td>0</td>\n",
       "    </tr>\n",
       "    <tr>\n",
       "      <th>4</th>\n",
       "      <td>0</td>\n",
       "      <td>0</td>\n",
       "      <td>1386</td>\n",
       "      <td>1529</td>\n",
       "      <td>1339</td>\n",
       "      <td>761</td>\n",
       "      <td>1584</td>\n",
       "      <td>328</td>\n",
       "      <td>0</td>\n",
       "      <td>0</td>\n",
       "      <td>...</td>\n",
       "      <td>0</td>\n",
       "      <td>0</td>\n",
       "      <td>0</td>\n",
       "      <td>0</td>\n",
       "      <td>0</td>\n",
       "      <td>0</td>\n",
       "      <td>0</td>\n",
       "      <td>0</td>\n",
       "      <td>0</td>\n",
       "      <td>0</td>\n",
       "    </tr>\n",
       "    <tr>\n",
       "      <th>5</th>\n",
       "      <td>0</td>\n",
       "      <td>0</td>\n",
       "      <td>1533</td>\n",
       "      <td>1580</td>\n",
       "      <td>1581</td>\n",
       "      <td>904</td>\n",
       "      <td>1567</td>\n",
       "      <td>1556</td>\n",
       "      <td>1444</td>\n",
       "      <td>1561</td>\n",
       "      <td>...</td>\n",
       "      <td>0</td>\n",
       "      <td>0</td>\n",
       "      <td>0</td>\n",
       "      <td>0</td>\n",
       "      <td>0</td>\n",
       "      <td>0</td>\n",
       "      <td>0</td>\n",
       "      <td>0</td>\n",
       "      <td>0</td>\n",
       "      <td>0</td>\n",
       "    </tr>\n",
       "    <tr>\n",
       "      <th>6</th>\n",
       "      <td>0</td>\n",
       "      <td>0</td>\n",
       "      <td>1516</td>\n",
       "      <td>1587</td>\n",
       "      <td>85</td>\n",
       "      <td>1315</td>\n",
       "      <td>168</td>\n",
       "      <td>1581</td>\n",
       "      <td>1481</td>\n",
       "      <td>0</td>\n",
       "      <td>...</td>\n",
       "      <td>0</td>\n",
       "      <td>0</td>\n",
       "      <td>0</td>\n",
       "      <td>0</td>\n",
       "      <td>0</td>\n",
       "      <td>0</td>\n",
       "      <td>0</td>\n",
       "      <td>0</td>\n",
       "      <td>0</td>\n",
       "      <td>0</td>\n",
       "    </tr>\n",
       "    <tr>\n",
       "      <th>7</th>\n",
       "      <td>0</td>\n",
       "      <td>0</td>\n",
       "      <td>1542</td>\n",
       "      <td>1488</td>\n",
       "      <td>355</td>\n",
       "      <td>1560</td>\n",
       "      <td>1232</td>\n",
       "      <td>1557</td>\n",
       "      <td>1587</td>\n",
       "      <td>1546</td>\n",
       "      <td>...</td>\n",
       "      <td>0</td>\n",
       "      <td>0</td>\n",
       "      <td>0</td>\n",
       "      <td>0</td>\n",
       "      <td>0</td>\n",
       "      <td>0</td>\n",
       "      <td>0</td>\n",
       "      <td>0</td>\n",
       "      <td>0</td>\n",
       "      <td>0</td>\n",
       "    </tr>\n",
       "    <tr>\n",
       "      <th>...</th>\n",
       "      <td>...</td>\n",
       "      <td>...</td>\n",
       "      <td>...</td>\n",
       "      <td>...</td>\n",
       "      <td>...</td>\n",
       "      <td>...</td>\n",
       "      <td>...</td>\n",
       "      <td>...</td>\n",
       "      <td>...</td>\n",
       "      <td>...</td>\n",
       "      <td>...</td>\n",
       "      <td>...</td>\n",
       "      <td>...</td>\n",
       "      <td>...</td>\n",
       "      <td>...</td>\n",
       "      <td>...</td>\n",
       "      <td>...</td>\n",
       "      <td>...</td>\n",
       "      <td>...</td>\n",
       "      <td>...</td>\n",
       "      <td>...</td>\n",
       "    </tr>\n",
       "    <tr>\n",
       "      <th>10869</th>\n",
       "      <td>0</td>\n",
       "      <td>0</td>\n",
       "      <td>1455</td>\n",
       "      <td>748</td>\n",
       "      <td>276</td>\n",
       "      <td>505</td>\n",
       "      <td>1582</td>\n",
       "      <td>1217</td>\n",
       "      <td>1415</td>\n",
       "      <td>1507</td>\n",
       "      <td>...</td>\n",
       "      <td>0</td>\n",
       "      <td>0</td>\n",
       "      <td>0</td>\n",
       "      <td>0</td>\n",
       "      <td>0</td>\n",
       "      <td>0</td>\n",
       "      <td>0</td>\n",
       "      <td>0</td>\n",
       "      <td>0</td>\n",
       "      <td>0</td>\n",
       "    </tr>\n",
       "    <tr>\n",
       "      <th>10870</th>\n",
       "      <td>0</td>\n",
       "      <td>0</td>\n",
       "      <td>1583</td>\n",
       "      <td>1583</td>\n",
       "      <td>1586</td>\n",
       "      <td>1538</td>\n",
       "      <td>1579</td>\n",
       "      <td>850</td>\n",
       "      <td>1307</td>\n",
       "      <td>1459</td>\n",
       "      <td>...</td>\n",
       "      <td>0</td>\n",
       "      <td>0</td>\n",
       "      <td>0</td>\n",
       "      <td>0</td>\n",
       "      <td>0</td>\n",
       "      <td>0</td>\n",
       "      <td>0</td>\n",
       "      <td>0</td>\n",
       "      <td>0</td>\n",
       "      <td>0</td>\n",
       "    </tr>\n",
       "    <tr>\n",
       "      <th>10871</th>\n",
       "      <td>0</td>\n",
       "      <td>0</td>\n",
       "      <td>1496</td>\n",
       "      <td>10</td>\n",
       "      <td>1495</td>\n",
       "      <td>1585</td>\n",
       "      <td>25</td>\n",
       "      <td>1299</td>\n",
       "      <td>1579</td>\n",
       "      <td>993</td>\n",
       "      <td>...</td>\n",
       "      <td>0</td>\n",
       "      <td>0</td>\n",
       "      <td>0</td>\n",
       "      <td>0</td>\n",
       "      <td>0</td>\n",
       "      <td>0</td>\n",
       "      <td>0</td>\n",
       "      <td>0</td>\n",
       "      <td>0</td>\n",
       "      <td>0</td>\n",
       "    </tr>\n",
       "    <tr>\n",
       "      <th>10872</th>\n",
       "      <td>0</td>\n",
       "      <td>0</td>\n",
       "      <td>1499</td>\n",
       "      <td>499</td>\n",
       "      <td>1534</td>\n",
       "      <td>1530</td>\n",
       "      <td>1250</td>\n",
       "      <td>1563</td>\n",
       "      <td>1582</td>\n",
       "      <td>1442</td>\n",
       "      <td>...</td>\n",
       "      <td>0</td>\n",
       "      <td>0</td>\n",
       "      <td>0</td>\n",
       "      <td>0</td>\n",
       "      <td>0</td>\n",
       "      <td>0</td>\n",
       "      <td>0</td>\n",
       "      <td>0</td>\n",
       "      <td>0</td>\n",
       "      <td>0</td>\n",
       "    </tr>\n",
       "    <tr>\n",
       "      <th>10873</th>\n",
       "      <td>0</td>\n",
       "      <td>0</td>\n",
       "      <td>1586</td>\n",
       "      <td>1365</td>\n",
       "      <td>1589</td>\n",
       "      <td>1519</td>\n",
       "      <td>1372</td>\n",
       "      <td>1042</td>\n",
       "      <td>1561</td>\n",
       "      <td>1381</td>\n",
       "      <td>...</td>\n",
       "      <td>0</td>\n",
       "      <td>0</td>\n",
       "      <td>0</td>\n",
       "      <td>0</td>\n",
       "      <td>0</td>\n",
       "      <td>0</td>\n",
       "      <td>0</td>\n",
       "      <td>0</td>\n",
       "      <td>0</td>\n",
       "      <td>0</td>\n",
       "    </tr>\n",
       "  </tbody>\n",
       "</table>\n",
       "<p>7613 rows × 69 columns</p>\n",
       "</div>"
      ],
      "text/plain": [
       "       keyword  location     0     1     2     3     4     5     6     7  ...  \\\n",
       "id                                                                        ...   \n",
       "1            0         0  1454  1556  1586   711  1579  1560  1587  1308  ...   \n",
       "4            0         0  1386  1529  1339   761  1584   328     0     0  ...   \n",
       "5            0         0  1533  1580  1581   904  1567  1556  1444  1561  ...   \n",
       "6            0         0  1516  1587    85  1315   168  1581  1481     0  ...   \n",
       "7            0         0  1542  1488   355  1560  1232  1557  1587  1546  ...   \n",
       "...        ...       ...   ...   ...   ...   ...   ...   ...   ...   ...  ...   \n",
       "10869        0         0  1455   748   276   505  1582  1217  1415  1507  ...   \n",
       "10870        0         0  1583  1583  1586  1538  1579   850  1307  1459  ...   \n",
       "10871        0         0  1496    10  1495  1585    25  1299  1579   993  ...   \n",
       "10872        0         0  1499   499  1534  1530  1250  1563  1582  1442  ...   \n",
       "10873        0         0  1586  1365  1589  1519  1372  1042  1561  1381  ...   \n",
       "\n",
       "       57  58  59  60  61  62  63  64  65  66  \n",
       "id                                             \n",
       "1       0   0   0   0   0   0   0   0   0   0  \n",
       "4       0   0   0   0   0   0   0   0   0   0  \n",
       "5       0   0   0   0   0   0   0   0   0   0  \n",
       "6       0   0   0   0   0   0   0   0   0   0  \n",
       "7       0   0   0   0   0   0   0   0   0   0  \n",
       "...    ..  ..  ..  ..  ..  ..  ..  ..  ..  ..  \n",
       "10869   0   0   0   0   0   0   0   0   0   0  \n",
       "10870   0   0   0   0   0   0   0   0   0   0  \n",
       "10871   0   0   0   0   0   0   0   0   0   0  \n",
       "10872   0   0   0   0   0   0   0   0   0   0  \n",
       "10873   0   0   0   0   0   0   0   0   0   0  \n",
       "\n",
       "[7613 rows x 69 columns]"
      ]
     },
     "execution_count": 21,
     "metadata": {},
     "output_type": "execute_result"
    }
   ],
   "source": [
    "X = pd.DataFrame({\n",
    "    'keyword': keyword_encoded,\n",
    "    'location': location_encoded,\n",
    "})\n",
    "X = pd.concat([X, text_encoded], axis=1)\n",
    "X"
   ]
  },
  {
   "cell_type": "code",
   "execution_count": 22,
   "id": "373e0207-bcc8-46ca-83a5-e4c1184b9ba5",
   "metadata": {
    "execution": {
     "iopub.execute_input": "2022-10-20T03:59:58.614561Z",
     "iopub.status.busy": "2022-10-20T03:59:58.614394Z",
     "iopub.status.idle": "2022-10-20T03:59:58.620053Z",
     "shell.execute_reply": "2022-10-20T03:59:58.619335Z",
     "shell.execute_reply.started": "2022-10-20T03:59:58.614546Z"
    },
    "tags": []
   },
   "outputs": [
    {
     "data": {
      "text/plain": [
       "0    4342\n",
       "1    3271\n",
       "Name: target, dtype: int64"
      ]
     },
     "execution_count": 22,
     "metadata": {},
     "output_type": "execute_result"
    }
   ],
   "source": [
    "Y = Data.target\n",
    "Y.value_counts()"
   ]
  },
  {
   "cell_type": "code",
   "execution_count": 23,
   "id": "b816c273-58cd-4bb7-aa27-3fb7a782ad2f",
   "metadata": {
    "execution": {
     "iopub.execute_input": "2022-10-20T03:59:58.620956Z",
     "iopub.status.busy": "2022-10-20T03:59:58.620783Z",
     "iopub.status.idle": "2022-10-20T03:59:58.630578Z",
     "shell.execute_reply": "2022-10-20T03:59:58.629861Z",
     "shell.execute_reply.started": "2022-10-20T03:59:58.620940Z"
    },
    "tags": []
   },
   "outputs": [
    {
     "data": {
      "text/plain": [
       "((5709, 69), (1904, 69), (5709,), (1904,))"
      ]
     },
     "execution_count": 23,
     "metadata": {},
     "output_type": "execute_result"
    }
   ],
   "source": [
    "X = X.values\n",
    "Y = Y.values\n",
    "X_train, X_test, Y_train, Y_test = model_selection.train_test_split(X, Y)\n",
    "X_train.shape, X_test.shape, Y_train.shape, Y_test.shape"
   ]
  },
  {
   "cell_type": "markdown",
   "id": "f0784fa7-fc10-458e-a8e0-a43789e91d12",
   "metadata": {
    "execution": {
     "iopub.execute_input": "2022-10-17T03:22:34.505215Z",
     "iopub.status.busy": "2022-10-17T03:22:34.504582Z",
     "iopub.status.idle": "2022-10-17T03:22:34.545340Z",
     "shell.execute_reply": "2022-10-17T03:22:34.543636Z",
     "shell.execute_reply.started": "2022-10-17T03:22:34.505165Z"
    },
    "tags": []
   },
   "source": [
    "# Model"
   ]
  },
  {
   "cell_type": "code",
   "execution_count": 24,
   "id": "57221636-ada9-47b2-b1f3-afa445c93d4b",
   "metadata": {
    "execution": {
     "iopub.execute_input": "2022-10-20T03:59:58.631499Z",
     "iopub.status.busy": "2022-10-20T03:59:58.631331Z",
     "iopub.status.idle": "2022-10-20T03:59:58.638304Z",
     "shell.execute_reply": "2022-10-20T03:59:58.637572Z",
     "shell.execute_reply.started": "2022-10-20T03:59:58.631484Z"
    },
    "tags": []
   },
   "outputs": [],
   "source": [
    "class Model(nn.Module):\n",
    "    def __init__(self, num_keywords, num_locations, num_tokens, embedding_dim, out_channels):\n",
    "        super().__init__()\n",
    "        self.keyword_embedding = nn.Embedding(num_embeddings=num_keywords, embedding_dim=embedding_dim)\n",
    "        self.location_embedding = nn.Embedding(num_embeddings=num_locations, embedding_dim=embedding_dim)\n",
    "        self.text_embedding = nn.Embedding(num_embeddings=1+num_tokens, embedding_dim=embedding_dim, padding_idx=0)\n",
    "        self.conv3 = nn.Conv1d(in_channels=embedding_dim, out_channels=out_channels, kernel_size=3, stride=2)\n",
    "        self.conv5 = nn.Conv1d(in_channels=embedding_dim, out_channels=out_channels, kernel_size=5, stride=2)\n",
    "        self.pool = nn.AdaptiveMaxPool1d(1)\n",
    "        self.act = nn.ReLU()\n",
    "        self.fc = nn.Linear(embedding_dim+embedding_dim+out_channels+out_channels, 2)\n",
    "        self.out = nn.Softmax(dim=1)\n",
    "        self.dropout = nn.Dropout(0.25)\n",
    "    def forward(self, x):\n",
    "        keyword_embedding = self.keyword_embedding(x[:, 0])\n",
    "        location_embedding = self.location_embedding(x[:, 1])\n",
    "        text_embedding = self.text_embedding(x[:, 2:])\n",
    "        text_embedding = text_embedding.permute(0,2,1)\n",
    "        text_conv3 = self.pool(self.act(self.conv3(text_embedding))).squeeze()\n",
    "        text_conv5 = self.pool(self.act(self.conv5(text_embedding))).squeeze()\n",
    "        x = torch.cat([keyword_embedding, location_embedding, text_conv3, text_conv5], dim=1)\n",
    "        x = self.fc(x)\n",
    "        x = self.dropout(x)\n",
    "        return self.out(x)"
   ]
  },
  {
   "cell_type": "code",
   "execution_count": 25,
   "id": "70ef2b26-0858-4f07-be5b-de73a9e155f8",
   "metadata": {
    "execution": {
     "iopub.execute_input": "2022-10-20T03:59:58.639289Z",
     "iopub.status.busy": "2022-10-20T03:59:58.639056Z",
     "iopub.status.idle": "2022-10-20T03:59:58.668917Z",
     "shell.execute_reply": "2022-10-20T03:59:58.668189Z",
     "shell.execute_reply.started": "2022-10-20T03:59:58.639273Z"
    },
    "tags": []
   },
   "outputs": [
    {
     "data": {
      "text/plain": [
       "Model(\n",
       "  (keyword_embedding): Embedding(222, 50)\n",
       "  (location_embedding): Embedding(41, 50)\n",
       "  (text_embedding): Embedding(1590, 50, padding_idx=0)\n",
       "  (conv3): Conv1d(50, 32, kernel_size=(3,), stride=(2,))\n",
       "  (conv5): Conv1d(50, 32, kernel_size=(5,), stride=(2,))\n",
       "  (pool): AdaptiveMaxPool1d(output_size=1)\n",
       "  (act): ReLU()\n",
       "  (fc): Linear(in_features=164, out_features=2, bias=True)\n",
       "  (out): Softmax(dim=1)\n",
       "  (dropout): Dropout(p=0.25, inplace=False)\n",
       ")"
      ]
     },
     "execution_count": 25,
     "metadata": {},
     "output_type": "execute_result"
    }
   ],
   "source": [
    "model = Model(\n",
    "    num_keywords = len(keyword_index),\n",
    "    num_locations = len(location_index),\n",
    "    num_tokens = len(token_index),\n",
    "    embedding_dim = 50,\n",
    "    out_channels = 32,\n",
    ")\n",
    "model"
   ]
  },
  {
   "cell_type": "code",
   "execution_count": 26,
   "id": "a76b12f1-4101-44a2-858e-168eca48d110",
   "metadata": {
    "execution": {
     "iopub.execute_input": "2022-10-20T03:59:58.669837Z",
     "iopub.status.busy": "2022-10-20T03:59:58.669664Z",
     "iopub.status.idle": "2022-10-20T03:59:58.673303Z",
     "shell.execute_reply": "2022-10-20T03:59:58.672566Z",
     "shell.execute_reply.started": "2022-10-20T03:59:58.669822Z"
    },
    "tags": []
   },
   "outputs": [],
   "source": [
    "classifier = NeuralNetClassifier(\n",
    "    model,\n",
    "    max_epochs=100,\n",
    "    lr=0.05,\n",
    "    iterator_train__shuffle=True,\n",
    ")"
   ]
  },
  {
   "cell_type": "code",
   "execution_count": 27,
   "id": "dcd2e990-c0fa-48cb-b558-70918bc2a925",
   "metadata": {
    "execution": {
     "iopub.execute_input": "2022-10-20T03:59:58.674201Z",
     "iopub.status.busy": "2022-10-20T03:59:58.674036Z",
     "iopub.status.idle": "2022-10-20T04:00:16.539103Z",
     "shell.execute_reply": "2022-10-20T04:00:16.538543Z",
     "shell.execute_reply.started": "2022-10-20T03:59:58.674186Z"
    },
    "tags": []
   },
   "outputs": [
    {
     "name": "stdout",
     "output_type": "stream",
     "text": [
      "  epoch    train_loss    valid_acc    valid_loss     dur\n",
      "-------  ------------  -----------  ------------  ------\n",
      "      1        \u001b[36m0.7441\u001b[0m       \u001b[32m0.6182\u001b[0m        \u001b[35m0.6557\u001b[0m  0.2074\n",
      "      2        \u001b[36m0.6521\u001b[0m       \u001b[32m0.6690\u001b[0m        \u001b[35m0.6205\u001b[0m  0.1755\n",
      "      3        \u001b[36m0.6312\u001b[0m       0.5981        0.6940  0.2099\n",
      "      4        \u001b[36m0.6220\u001b[0m       0.6576        0.6282  0.2075\n",
      "      5        0.6275       0.6594        \u001b[35m0.6179\u001b[0m  0.2157\n",
      "      6        \u001b[36m0.5858\u001b[0m       \u001b[32m0.6804\u001b[0m        \u001b[35m0.5941\u001b[0m  0.2110\n",
      "      7        \u001b[36m0.5687\u001b[0m       0.6743        0.6255  0.1854\n",
      "      8        \u001b[36m0.5518\u001b[0m       \u001b[32m0.6953\u001b[0m        \u001b[35m0.5816\u001b[0m  0.2107\n",
      "      9        \u001b[36m0.5286\u001b[0m       0.6926        \u001b[35m0.5756\u001b[0m  0.2209\n",
      "     10        \u001b[36m0.5171\u001b[0m       0.6751        0.5953  0.1800\n",
      "     11        \u001b[36m0.4870\u001b[0m       \u001b[32m0.7093\u001b[0m        \u001b[35m0.5752\u001b[0m  0.1685\n",
      "     12        \u001b[36m0.4711\u001b[0m       0.6961        0.5854  0.2161\n",
      "     13        \u001b[36m0.4508\u001b[0m       0.7067        0.5759  0.1628\n",
      "     14        \u001b[36m0.4351\u001b[0m       0.7049        0.5902  0.1831\n",
      "     15        \u001b[36m0.4091\u001b[0m       0.6961        0.5912  0.1669\n",
      "     16        \u001b[36m0.3940\u001b[0m       \u001b[32m0.7180\u001b[0m        0.5912  0.1729\n",
      "     17        \u001b[36m0.3752\u001b[0m       0.6935        0.5992  0.1725\n",
      "     18        \u001b[36m0.3525\u001b[0m       0.7014        0.6026  0.1623\n",
      "     19        \u001b[36m0.3369\u001b[0m       0.6970        0.6111  0.1738\n",
      "     20        \u001b[36m0.3162\u001b[0m       0.7093        0.6334  0.1708\n",
      "     21        \u001b[36m0.3057\u001b[0m       0.6856        0.6278  0.1612\n",
      "     22        \u001b[36m0.2823\u001b[0m       0.7128        0.6383  0.1726\n",
      "     23        \u001b[36m0.2737\u001b[0m       0.7023        0.6408  0.1726\n",
      "     24        \u001b[36m0.2502\u001b[0m       0.7040        0.6543  0.1749\n",
      "     25        \u001b[36m0.2434\u001b[0m       0.6778        0.7040  0.1743\n",
      "     26        \u001b[36m0.2303\u001b[0m       0.7040        0.6741  0.1676\n",
      "     27        \u001b[36m0.2176\u001b[0m       0.6690        0.7102  0.1741\n",
      "     28        \u001b[36m0.2085\u001b[0m       0.6988        0.6837  0.1760\n",
      "     29        \u001b[36m0.2022\u001b[0m       0.6979        0.7074  0.1735\n",
      "     30        \u001b[36m0.1914\u001b[0m       0.7067        0.7244  0.1692\n",
      "     31        \u001b[36m0.1828\u001b[0m       0.6988        0.7286  0.1687\n",
      "     32        \u001b[36m0.1757\u001b[0m       0.6996        0.7350  0.1720\n",
      "     33        \u001b[36m0.1688\u001b[0m       0.6988        0.7544  0.1697\n",
      "     34        \u001b[36m0.1637\u001b[0m       0.7014        0.7499  0.1658\n",
      "     35        \u001b[36m0.1593\u001b[0m       0.7023        0.7708  0.1751\n",
      "     36        \u001b[36m0.1570\u001b[0m       0.7049        0.7738  0.1693\n",
      "     37        \u001b[36m0.1512\u001b[0m       0.6900        0.7911  0.1643\n",
      "     38        \u001b[36m0.1443\u001b[0m       0.7058        0.7925  0.2117\n",
      "     39        \u001b[36m0.1424\u001b[0m       0.7014        0.8081  0.1781\n",
      "     40        0.1428       0.6988        0.8156  0.1736\n",
      "     41        \u001b[36m0.1372\u001b[0m       0.6988        0.8221  0.1722\n",
      "     42        0.1372       0.7005        0.8262  0.1722\n",
      "     43        \u001b[36m0.1314\u001b[0m       0.6988        0.8399  0.1728\n",
      "     44        \u001b[36m0.1276\u001b[0m       0.6979        0.8666  0.1699\n",
      "     45        \u001b[36m0.1253\u001b[0m       0.6979        0.8650  0.1741\n",
      "     46        0.1317       0.7032        0.8552  0.1750\n",
      "     47        \u001b[36m0.1242\u001b[0m       0.7058        0.8958  0.1651\n",
      "     48        0.1279       0.7014        0.8833  0.1747\n",
      "     49        \u001b[36m0.1237\u001b[0m       0.6988        0.8848  0.1686\n",
      "     50        \u001b[36m0.1215\u001b[0m       0.7023        0.8930  0.1723\n",
      "     51        \u001b[36m0.1186\u001b[0m       0.6988        0.9246  0.1702\n",
      "     52        \u001b[36m0.1165\u001b[0m       0.7005        0.9098  0.1688\n",
      "     53        \u001b[36m0.1137\u001b[0m       0.6874        0.9464  0.1737\n",
      "     54        0.1159       0.6953        0.9253  0.1705\n",
      "     55        \u001b[36m0.1086\u001b[0m       0.7023        0.9426  0.1710\n",
      "     56        0.1169       0.6988        0.9491  0.1731\n",
      "     57        0.1128       0.7023        0.9879  0.1722\n",
      "     58        0.1108       0.7075        0.9825  0.1743\n",
      "     59        0.1138       0.6988        0.9585  0.1754\n",
      "     60        0.1101       0.6996        0.9584  0.1739\n",
      "     61        \u001b[36m0.1074\u001b[0m       0.7049        0.9716  0.1720\n",
      "     62        0.1129       0.7032        0.9722  0.1737\n",
      "     63        0.1084       0.7049        0.9763  0.1756\n",
      "     64        \u001b[36m0.1062\u001b[0m       0.7067        0.9774  0.1737\n",
      "     65        \u001b[36m0.1008\u001b[0m       0.6935        0.9967  0.1691\n",
      "     66        \u001b[36m0.1007\u001b[0m       0.6953        0.9934  0.1775\n",
      "     67        0.1042       0.6996        1.0049  0.1768\n",
      "     68        0.1090       0.7128        0.9997  0.1671\n",
      "     69        0.1033       0.7014        1.0339  0.1733\n",
      "     70        \u001b[36m0.0991\u001b[0m       0.6996        1.0437  0.1771\n",
      "     71        0.1059       0.6900        1.0423  0.1767\n",
      "     72        0.1026       0.6996        1.0505  0.1787\n",
      "     73        0.0997       0.7014        1.0310  0.1717\n",
      "     74        0.1026       0.6953        1.0381  0.1757\n",
      "     75        0.1088       0.6778        1.0685  0.1742\n",
      "     76        0.1039       0.6996        1.0586  0.1749\n",
      "     77        0.1083       0.7032        1.0459  0.1750\n",
      "     78        0.1029       0.6900        1.0596  0.1754\n",
      "     79        \u001b[36m0.0953\u001b[0m       0.7058        1.0602  0.1680\n",
      "     80        0.1109       0.6961        1.0656  0.1775\n",
      "     81        0.1041       0.6970        1.0833  0.1754\n",
      "     82        0.1025       0.7075        1.1050  0.1763\n",
      "     83        0.1070       0.7040        1.0710  0.1749\n",
      "     84        0.0996       0.6979        1.0640  0.1773\n",
      "     85        0.1084       0.6926        1.0780  0.1759\n",
      "     86        \u001b[36m0.0945\u001b[0m       0.6996        1.1066  0.1768\n",
      "     87        0.0977       0.6970        1.0884  0.1760\n",
      "     88        0.1055       0.7005        1.1073  0.1760\n",
      "     89        0.0994       0.7023        1.0816  0.1675\n",
      "     90        0.0964       0.6996        1.0910  0.1768\n",
      "     91        0.0994       0.6961        1.0919  0.1775\n",
      "     92        0.0946       0.6988        1.1062  0.1888\n",
      "     93        0.0967       0.6961        1.1069  0.1777\n",
      "     94        0.1022       0.7032        1.1127  0.1957\n",
      "     95        0.0992       0.7005        1.1064  0.1776\n",
      "     96        0.0989       0.6900        1.1311  0.1777\n",
      "     97        0.0960       0.6953        1.1069  0.1784\n",
      "     98        0.0957       0.7023        1.1501  0.1780\n",
      "     99        0.0964       0.6953        1.1312  0.1613\n",
      "    100        0.1045       0.6996        1.1244  0.1770\n"
     ]
    },
    {
     "data": {
      "text/plain": [
       "<class 'skorch.classifier.NeuralNetClassifier'>[initialized](\n",
       "  module_=Model(\n",
       "    (keyword_embedding): Embedding(222, 50)\n",
       "    (location_embedding): Embedding(41, 50)\n",
       "    (text_embedding): Embedding(1590, 50, padding_idx=0)\n",
       "    (conv3): Conv1d(50, 32, kernel_size=(3,), stride=(2,))\n",
       "    (conv5): Conv1d(50, 32, kernel_size=(5,), stride=(2,))\n",
       "    (pool): AdaptiveMaxPool1d(output_size=1)\n",
       "    (act): ReLU()\n",
       "    (fc): Linear(in_features=164, out_features=2, bias=True)\n",
       "    (out): Softmax(dim=1)\n",
       "    (dropout): Dropout(p=0.25, inplace=False)\n",
       "  ),\n",
       ")"
      ]
     },
     "execution_count": 27,
     "metadata": {},
     "output_type": "execute_result"
    }
   ],
   "source": [
    "classifier.fit(X_train, Y_train)"
   ]
  },
  {
   "cell_type": "code",
   "execution_count": 28,
   "id": "94aaaa1f-e669-459b-a697-5da61c1130f6",
   "metadata": {
    "execution": {
     "iopub.execute_input": "2022-10-20T04:00:16.542210Z",
     "iopub.status.busy": "2022-10-20T04:00:16.541945Z",
     "iopub.status.idle": "2022-10-20T04:00:16.647229Z",
     "shell.execute_reply": "2022-10-20T04:00:16.646725Z",
     "shell.execute_reply.started": "2022-10-20T04:00:16.542192Z"
    },
    "tags": []
   },
   "outputs": [
    {
     "name": "stdout",
     "output_type": "stream",
     "text": [
      "              precision    recall  f1-score   support\n",
      "\n",
      "           0       0.94      0.94      0.94      3270\n",
      "           1       0.92      0.91      0.92      2439\n",
      "\n",
      "    accuracy                           0.93      5709\n",
      "   macro avg       0.93      0.93      0.93      5709\n",
      "weighted avg       0.93      0.93      0.93      5709\n",
      "\n"
     ]
    }
   ],
   "source": [
    "print(metrics.classification_report(Y_train, classifier.predict(X_train)))"
   ]
  },
  {
   "cell_type": "code",
   "execution_count": 29,
   "id": "b3d040fd-9ace-442e-98b7-e0a1a50cebdc",
   "metadata": {
    "execution": {
     "iopub.execute_input": "2022-10-20T04:00:16.648504Z",
     "iopub.status.busy": "2022-10-20T04:00:16.648031Z",
     "iopub.status.idle": "2022-10-20T04:00:16.688047Z",
     "shell.execute_reply": "2022-10-20T04:00:16.687550Z",
     "shell.execute_reply.started": "2022-10-20T04:00:16.648473Z"
    },
    "tags": []
   },
   "outputs": [
    {
     "name": "stdout",
     "output_type": "stream",
     "text": [
      "              precision    recall  f1-score   support\n",
      "\n",
      "           0       0.73      0.74      0.73      1072\n",
      "           1       0.66      0.64      0.65       832\n",
      "\n",
      "    accuracy                           0.70      1904\n",
      "   macro avg       0.69      0.69      0.69      1904\n",
      "weighted avg       0.70      0.70      0.70      1904\n",
      "\n"
     ]
    }
   ],
   "source": [
    "print(metrics.classification_report(Y_test, classifier.predict(X_test)))"
   ]
  },
  {
   "cell_type": "markdown",
   "id": "ce6623d8-d100-4ab3-96b5-05428ac4ce69",
   "metadata": {},
   "source": [
    "# Remarks\n",
    "\n",
    "This is just a proof of concept, and the performance is not surprising: with limited data, language embedding models are very difficult to train. You can easily improve the models with many `pretrained` models, e.g., word2vec."
   ]
  },
  {
   "cell_type": "code",
   "execution_count": null,
   "id": "e267193d-8133-438e-810b-a4195221433e",
   "metadata": {},
   "outputs": [],
   "source": []
  }
 ],
 "metadata": {
  "kernelspec": {
   "display_name": "Python 3 (ipykernel)",
   "language": "python",
   "name": "python3"
  },
  "language_info": {
   "codemirror_mode": {
    "name": "ipython",
    "version": 3
   },
   "file_extension": ".py",
   "mimetype": "text/x-python",
   "name": "python",
   "nbconvert_exporter": "python",
   "pygments_lexer": "ipython3",
   "version": "3.10.6"
  }
 },
 "nbformat": 4,
 "nbformat_minor": 5
}
