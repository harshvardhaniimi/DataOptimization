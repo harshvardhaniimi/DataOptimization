{
 "cells": [
  {
   "cell_type": "code",
   "execution_count": 1,
   "id": "d6346b15-2a33-465a-bed0-193524e81a70",
   "metadata": {
    "execution": {
     "iopub.execute_input": "2022-10-20T03:59:55.524567Z",
     "iopub.status.busy": "2022-10-20T03:59:55.523561Z",
     "iopub.status.idle": "2022-10-20T03:59:56.758173Z",
     "shell.execute_reply": "2022-10-20T03:59:56.757644Z",
     "shell.execute_reply.started": "2022-10-20T03:59:55.524439Z"
    },
    "tags": []
   },
   "outputs": [],
   "source": [
    "import collections, itertools, re\n",
    "import numpy as np\n",
    "import pandas as pd\n",
    "from sklearn import preprocessing\n",
    "from sklearn import model_selection\n",
    "from sklearn import metrics\n",
    "from nltk.tokenize import word_tokenize\n",
    "import torch\n",
    "from torch import nn\n",
    "from skorch import NeuralNetClassifier"
   ]
  },
  {
   "cell_type": "code",
   "execution_count": 2,
   "id": "57f38706-9a9b-4f20-a6f1-6a000a3598af",
   "metadata": {
    "execution": {
     "iopub.execute_input": "2022-10-20T03:59:56.759502Z",
     "iopub.status.busy": "2022-10-20T03:59:56.759149Z",
     "iopub.status.idle": "2022-10-20T03:59:56.792535Z",
     "shell.execute_reply": "2022-10-20T03:59:56.791764Z",
     "shell.execute_reply.started": "2022-10-20T03:59:56.759482Z"
    },
    "tags": []
   },
   "outputs": [
    {
     "data": {
      "text/html": [
       "<div>\n",
       "<style scoped>\n",
       "    .dataframe tbody tr th:only-of-type {\n",
       "        vertical-align: middle;\n",
       "    }\n",
       "\n",
       "    .dataframe tbody tr th {\n",
       "        vertical-align: top;\n",
       "    }\n",
       "\n",
       "    .dataframe thead th {\n",
       "        text-align: right;\n",
       "    }\n",
       "</style>\n",
       "<table border=\"1\" class=\"dataframe\">\n",
       "  <thead>\n",
       "    <tr style=\"text-align: right;\">\n",
       "      <th></th>\n",
       "      <th>keyword</th>\n",
       "      <th>location</th>\n",
       "      <th>text</th>\n",
       "      <th>target</th>\n",
       "    </tr>\n",
       "    <tr>\n",
       "      <th>id</th>\n",
       "      <th></th>\n",
       "      <th></th>\n",
       "      <th></th>\n",
       "      <th></th>\n",
       "    </tr>\n",
       "  </thead>\n",
       "  <tbody>\n",
       "    <tr>\n",
       "      <th>1</th>\n",
       "      <td>NaN</td>\n",
       "      <td>NaN</td>\n",
       "      <td>Our Deeds are the Reason of this #earthquake M...</td>\n",
       "      <td>1</td>\n",
       "    </tr>\n",
       "    <tr>\n",
       "      <th>4</th>\n",
       "      <td>NaN</td>\n",
       "      <td>NaN</td>\n",
       "      <td>Forest fire near La Ronge Sask. Canada</td>\n",
       "      <td>1</td>\n",
       "    </tr>\n",
       "    <tr>\n",
       "      <th>5</th>\n",
       "      <td>NaN</td>\n",
       "      <td>NaN</td>\n",
       "      <td>All residents asked to 'shelter in place' are ...</td>\n",
       "      <td>1</td>\n",
       "    </tr>\n",
       "    <tr>\n",
       "      <th>6</th>\n",
       "      <td>NaN</td>\n",
       "      <td>NaN</td>\n",
       "      <td>13,000 people receive #wildfires evacuation or...</td>\n",
       "      <td>1</td>\n",
       "    </tr>\n",
       "    <tr>\n",
       "      <th>7</th>\n",
       "      <td>NaN</td>\n",
       "      <td>NaN</td>\n",
       "      <td>Just got sent this photo from Ruby #Alaska as ...</td>\n",
       "      <td>1</td>\n",
       "    </tr>\n",
       "    <tr>\n",
       "      <th>...</th>\n",
       "      <td>...</td>\n",
       "      <td>...</td>\n",
       "      <td>...</td>\n",
       "      <td>...</td>\n",
       "    </tr>\n",
       "    <tr>\n",
       "      <th>10869</th>\n",
       "      <td>NaN</td>\n",
       "      <td>NaN</td>\n",
       "      <td>Two giant cranes holding a bridge collapse int...</td>\n",
       "      <td>1</td>\n",
       "    </tr>\n",
       "    <tr>\n",
       "      <th>10870</th>\n",
       "      <td>NaN</td>\n",
       "      <td>NaN</td>\n",
       "      <td>@aria_ahrary @TheTawniest The out of control w...</td>\n",
       "      <td>1</td>\n",
       "    </tr>\n",
       "    <tr>\n",
       "      <th>10871</th>\n",
       "      <td>NaN</td>\n",
       "      <td>NaN</td>\n",
       "      <td>M1.94 [01:04 UTC]?5km S of Volcano Hawaii. htt...</td>\n",
       "      <td>1</td>\n",
       "    </tr>\n",
       "    <tr>\n",
       "      <th>10872</th>\n",
       "      <td>NaN</td>\n",
       "      <td>NaN</td>\n",
       "      <td>Police investigating after an e-bike collided ...</td>\n",
       "      <td>1</td>\n",
       "    </tr>\n",
       "    <tr>\n",
       "      <th>10873</th>\n",
       "      <td>NaN</td>\n",
       "      <td>NaN</td>\n",
       "      <td>The Latest: More Homes Razed by Northern Calif...</td>\n",
       "      <td>1</td>\n",
       "    </tr>\n",
       "  </tbody>\n",
       "</table>\n",
       "<p>7613 rows × 4 columns</p>\n",
       "</div>"
      ],
      "text/plain": [
       "      keyword location                                               text  \\\n",
       "id                                                                          \n",
       "1         NaN      NaN  Our Deeds are the Reason of this #earthquake M...   \n",
       "4         NaN      NaN             Forest fire near La Ronge Sask. Canada   \n",
       "5         NaN      NaN  All residents asked to 'shelter in place' are ...   \n",
       "6         NaN      NaN  13,000 people receive #wildfires evacuation or...   \n",
       "7         NaN      NaN  Just got sent this photo from Ruby #Alaska as ...   \n",
       "...       ...      ...                                                ...   \n",
       "10869     NaN      NaN  Two giant cranes holding a bridge collapse int...   \n",
       "10870     NaN      NaN  @aria_ahrary @TheTawniest The out of control w...   \n",
       "10871     NaN      NaN  M1.94 [01:04 UTC]?5km S of Volcano Hawaii. htt...   \n",
       "10872     NaN      NaN  Police investigating after an e-bike collided ...   \n",
       "10873     NaN      NaN  The Latest: More Homes Razed by Northern Calif...   \n",
       "\n",
       "       target  \n",
       "id             \n",
       "1           1  \n",
       "4           1  \n",
       "5           1  \n",
       "6           1  \n",
       "7           1  \n",
       "...       ...  \n",
       "10869       1  \n",
       "10870       1  \n",
       "10871       1  \n",
       "10872       1  \n",
       "10873       1  \n",
       "\n",
       "[7613 rows x 4 columns]"
      ]
     },
     "execution_count": 2,
     "metadata": {},
     "output_type": "execute_result"
    }
   ],
   "source": [
    "Data = pd.read_csv('/Users/harshvardhan/Dropbox/Fall 2022/BZAN 620/Python/DataOptimization-Forked/train_TextCNN.csv', index_col='id')\n",
    "Data"
   ]
  },
  {
   "cell_type": "code",
   "execution_count": 3,
   "id": "3aa62e56-b479-448f-957b-8e25c3003f63",
   "metadata": {
    "execution": {
     "iopub.execute_input": "2022-10-20T03:59:56.793387Z",
     "iopub.status.busy": "2022-10-20T03:59:56.793213Z",
     "iopub.status.idle": "2022-10-20T03:59:56.801405Z",
     "shell.execute_reply": "2022-10-20T03:59:56.800615Z",
     "shell.execute_reply.started": "2022-10-20T03:59:56.793371Z"
    },
    "tags": []
   },
   "outputs": [],
   "source": [
    "Data['keyword'] = Data.keyword.str.strip()\n",
    "Data['location'] = Data.location.str.strip()"
   ]
  },
  {
   "cell_type": "markdown",
   "id": "088a543a-3126-4133-9545-7f5ee5a8e180",
   "metadata": {
    "tags": []
   },
   "source": [
    "# Keyword"
   ]
  },
  {
   "cell_type": "code",
   "execution_count": 4,
   "id": "519b6cf7-e5d2-4d20-80ec-4f5bfd605f70",
   "metadata": {
    "execution": {
     "iopub.execute_input": "2022-10-20T03:59:56.803128Z",
     "iopub.status.busy": "2022-10-20T03:59:56.802713Z",
     "iopub.status.idle": "2022-10-20T03:59:56.809139Z",
     "shell.execute_reply": "2022-10-20T03:59:56.808399Z",
     "shell.execute_reply.started": "2022-10-20T03:59:56.803112Z"
    },
    "tags": []
   },
   "outputs": [
    {
     "data": {
      "text/plain": [
       "NaN                      61\n",
       "fatalities               45\n",
       "deluge                   42\n",
       "armageddon               42\n",
       "sinking                  41\n",
       "                         ..\n",
       "forest%20fire            19\n",
       "epicentre                12\n",
       "threat                   11\n",
       "inundation               10\n",
       "radiation%20emergency     9\n",
       "Name: keyword, Length: 222, dtype: int64"
      ]
     },
     "execution_count": 4,
     "metadata": {},
     "output_type": "execute_result"
    }
   ],
   "source": [
    "keyword_counts = Data.keyword.value_counts(dropna=False)\n",
    "keyword_counts"
   ]
  },
  {
   "cell_type": "code",
   "execution_count": 5,
   "id": "9e702a3d-228e-46d6-8d78-f6601390f316",
   "metadata": {
    "execution": {
     "iopub.execute_input": "2022-10-20T03:59:56.809996Z",
     "iopub.status.busy": "2022-10-20T03:59:56.809822Z",
     "iopub.status.idle": "2022-10-20T03:59:56.815788Z",
     "shell.execute_reply": "2022-10-20T03:59:56.815043Z",
     "shell.execute_reply.started": "2022-10-20T03:59:56.809981Z"
    },
    "tags": []
   },
   "outputs": [
    {
     "data": {
      "text/plain": [
       "NaN                        0\n",
       "fatalities                 1\n",
       "deluge                     2\n",
       "armageddon                 3\n",
       "sinking                    4\n",
       "                        ... \n",
       "forest%20fire            217\n",
       "epicentre                218\n",
       "threat                   219\n",
       "inundation               220\n",
       "radiation%20emergency    221\n",
       "Length: 222, dtype: int64"
      ]
     },
     "execution_count": 5,
     "metadata": {},
     "output_type": "execute_result"
    }
   ],
   "source": [
    "keyword_index = pd.Series(range(len(keyword_counts)), index=keyword_counts.index)\n",
    "keyword_index"
   ]
  },
  {
   "cell_type": "code",
   "execution_count": 6,
   "id": "8b9e3b56-322c-4177-a0fc-7a7ad197d017",
   "metadata": {
    "execution": {
     "iopub.execute_input": "2022-10-20T03:59:56.816817Z",
     "iopub.status.busy": "2022-10-20T03:59:56.816545Z",
     "iopub.status.idle": "2022-10-20T03:59:56.822997Z",
     "shell.execute_reply": "2022-10-20T03:59:56.822250Z",
     "shell.execute_reply.started": "2022-10-20T03:59:56.816801Z"
    },
    "tags": []
   },
   "outputs": [
    {
     "data": {
      "text/plain": [
       "id\n",
       "1        0\n",
       "4        0\n",
       "5        0\n",
       "6        0\n",
       "7        0\n",
       "        ..\n",
       "10869    0\n",
       "10870    0\n",
       "10871    0\n",
       "10872    0\n",
       "10873    0\n",
       "Name: keyword, Length: 7613, dtype: int64"
      ]
     },
     "execution_count": 6,
     "metadata": {},
     "output_type": "execute_result"
    }
   ],
   "source": [
    "keyword_encoded = Data.keyword.map(keyword_index)\n",
    "keyword_encoded"
   ]
  },
  {
   "cell_type": "code",
   "execution_count": 7,
   "id": "8fde62f2-f525-4fe3-94f8-fab4d049195e",
   "metadata": {
    "execution": {
     "iopub.execute_input": "2022-10-20T03:59:56.824208Z",
     "iopub.status.busy": "2022-10-20T03:59:56.823755Z",
     "iopub.status.idle": "2022-10-20T03:59:56.829671Z",
     "shell.execute_reply": "2022-10-20T03:59:56.828920Z",
     "shell.execute_reply.started": "2022-10-20T03:59:56.824192Z"
    },
    "tags": []
   },
   "outputs": [
    {
     "data": {
      "text/plain": [
       "0      61\n",
       "1      45\n",
       "2      42\n",
       "3      42\n",
       "4      41\n",
       "       ..\n",
       "217    19\n",
       "218    12\n",
       "219    11\n",
       "220    10\n",
       "221     9\n",
       "Name: keyword, Length: 222, dtype: int64"
      ]
     },
     "execution_count": 7,
     "metadata": {},
     "output_type": "execute_result"
    }
   ],
   "source": [
    "keyword_encoded.value_counts()"
   ]
  },
  {
   "cell_type": "markdown",
   "id": "004cc171-566f-4d70-a89d-87471bd7782d",
   "metadata": {
    "jp-MarkdownHeadingCollapsed": true,
    "tags": []
   },
   "source": [
    "# Location"
   ]
  },
  {
   "cell_type": "code",
   "execution_count": 8,
   "id": "f772f1ac-116f-4534-a9f8-a3ab7ae79ee5",
   "metadata": {
    "execution": {
     "iopub.execute_input": "2022-10-20T03:59:56.830694Z",
     "iopub.status.busy": "2022-10-20T03:59:56.830521Z",
     "iopub.status.idle": "2022-10-20T03:59:56.837441Z",
     "shell.execute_reply": "2022-10-20T03:59:56.836706Z",
     "shell.execute_reply.started": "2022-10-20T03:59:56.830679Z"
    },
    "tags": []
   },
   "outputs": [
    {
     "data": {
      "text/plain": [
       "NaN                               2533\n",
       "USA                                105\n",
       "New York                            73\n",
       "United States                       50\n",
       "London                              46\n",
       "                                  ... \n",
       "Layang-Layang, Perak                 1\n",
       "somewhere in Indiana                 1\n",
       "Inside your webcam. Stop that.       1\n",
       "R'lyeh, South Pacific                1\n",
       "Lincoln                              1\n",
       "Name: location, Length: 3280, dtype: int64"
      ]
     },
     "execution_count": 8,
     "metadata": {},
     "output_type": "execute_result"
    }
   ],
   "source": [
    "location_counts = Data.location.value_counts(dropna=False)\n",
    "location_counts"
   ]
  },
  {
   "cell_type": "code",
   "execution_count": 9,
   "id": "61352465-e62a-456c-a800-7dad627642ab",
   "metadata": {
    "execution": {
     "iopub.execute_input": "2022-10-20T03:59:56.838284Z",
     "iopub.status.busy": "2022-10-20T03:59:56.838107Z",
     "iopub.status.idle": "2022-10-20T03:59:56.843761Z",
     "shell.execute_reply": "2022-10-20T03:59:56.843041Z",
     "shell.execute_reply.started": "2022-10-20T03:59:56.838269Z"
    },
    "tags": []
   },
   "outputs": [
    {
     "data": {
      "text/plain": [
       "NaN                  2533\n",
       "USA                   105\n",
       "New York               73\n",
       "United States          50\n",
       "London                 46\n",
       "Nigeria                32\n",
       "Canada                 30\n",
       "UK                     27\n",
       "Los Angeles, CA        26\n",
       "India                  24\n",
       "Mumbai                 22\n",
       "Washington, DC         21\n",
       "Kenya                  20\n",
       "California             20\n",
       "Worldwide              19\n",
       "Chicago, IL            19\n",
       "Australia              19\n",
       "New York, NY           16\n",
       "Everywhere             15\n",
       "California, USA        15\n",
       "Los Angeles            15\n",
       "Washington, D.C.       14\n",
       "Indonesia              14\n",
       "United Kingdom         14\n",
       "San Francisco          14\n",
       "Florida                14\n",
       "NYC                    12\n",
       "Earth                  12\n",
       "Toronto                12\n",
       "Ireland                12\n",
       "Chicago                11\n",
       "Texas                  11\n",
       "San Francisco, CA      11\n",
       "Seattle                11\n",
       "London, UK             10\n",
       "London, England        10\n",
       "Dallas, TX             10\n",
       "Sacramento, CA         10\n",
       "ss                     10\n",
       "Atlanta, GA            10\n",
       "New York City          10\n",
       "Name: location, dtype: int64"
      ]
     },
     "execution_count": 9,
     "metadata": {},
     "output_type": "execute_result"
    }
   ],
   "source": [
    "location_counts = location_counts[location_counts>=10]\n",
    "location_counts"
   ]
  },
  {
   "cell_type": "code",
   "execution_count": 10,
   "id": "a94a1da5-e3f1-4f4b-94d5-76b4a2abeb4a",
   "metadata": {
    "execution": {
     "iopub.execute_input": "2022-10-20T03:59:56.846283Z",
     "iopub.status.busy": "2022-10-20T03:59:56.845818Z",
     "iopub.status.idle": "2022-10-20T03:59:56.851453Z",
     "shell.execute_reply": "2022-10-20T03:59:56.850708Z",
     "shell.execute_reply.started": "2022-10-20T03:59:56.846267Z"
    },
    "tags": []
   },
   "outputs": [
    {
     "data": {
      "text/plain": [
       "NaN                   0\n",
       "USA                   1\n",
       "New York              2\n",
       "United States         3\n",
       "London                4\n",
       "Nigeria               5\n",
       "Canada                6\n",
       "UK                    7\n",
       "Los Angeles, CA       8\n",
       "India                 9\n",
       "Mumbai               10\n",
       "Washington, DC       11\n",
       "Kenya                12\n",
       "California           13\n",
       "Worldwide            14\n",
       "Chicago, IL          15\n",
       "Australia            16\n",
       "New York, NY         17\n",
       "Everywhere           18\n",
       "California, USA      19\n",
       "Los Angeles          20\n",
       "Washington, D.C.     21\n",
       "Indonesia            22\n",
       "United Kingdom       23\n",
       "San Francisco        24\n",
       "Florida              25\n",
       "NYC                  26\n",
       "Earth                27\n",
       "Toronto              28\n",
       "Ireland              29\n",
       "Chicago              30\n",
       "Texas                31\n",
       "San Francisco, CA    32\n",
       "Seattle              33\n",
       "London, UK           34\n",
       "London, England      35\n",
       "Dallas, TX           36\n",
       "Sacramento, CA       37\n",
       "ss                   38\n",
       "Atlanta, GA          39\n",
       "New York City        40\n",
       "dtype: int64"
      ]
     },
     "execution_count": 10,
     "metadata": {},
     "output_type": "execute_result"
    }
   ],
   "source": [
    "location_index = pd.Series(range(len(location_counts)), index=location_counts.index)\n",
    "location_index"
   ]
  },
  {
   "cell_type": "code",
   "execution_count": 11,
   "id": "80f2193e-d9b5-4b02-8c74-c5a5a14d2126",
   "metadata": {
    "execution": {
     "iopub.execute_input": "2022-10-20T03:59:56.852587Z",
     "iopub.status.busy": "2022-10-20T03:59:56.852272Z",
     "iopub.status.idle": "2022-10-20T03:59:56.858840Z",
     "shell.execute_reply": "2022-10-20T03:59:56.858117Z",
     "shell.execute_reply.started": "2022-10-20T03:59:56.852571Z"
    },
    "tags": []
   },
   "outputs": [
    {
     "data": {
      "text/plain": [
       "id\n",
       "1        0\n",
       "4        0\n",
       "5        0\n",
       "6        0\n",
       "7        0\n",
       "        ..\n",
       "10869    0\n",
       "10870    0\n",
       "10871    0\n",
       "10872    0\n",
       "10873    0\n",
       "Name: location, Length: 7613, dtype: int64"
      ]
     },
     "execution_count": 11,
     "metadata": {},
     "output_type": "execute_result"
    }
   ],
   "source": [
    "location_encoded = Data.location.map(location_index).fillna(0).astype(int)\n",
    "location_encoded"
   ]
  },
  {
   "cell_type": "code",
   "execution_count": 12,
   "id": "ea2d82fd-e86a-49a4-a64d-2cb51e2828db",
   "metadata": {
    "execution": {
     "iopub.execute_input": "2022-10-20T03:59:56.860053Z",
     "iopub.status.busy": "2022-10-20T03:59:56.859594Z",
     "iopub.status.idle": "2022-10-20T03:59:56.865127Z",
     "shell.execute_reply": "2022-10-20T03:59:56.864411Z",
     "shell.execute_reply.started": "2022-10-20T03:59:56.860036Z"
    },
    "tags": []
   },
   "outputs": [
    {
     "data": {
      "text/plain": [
       "0     6767\n",
       "1      105\n",
       "2       73\n",
       "3       50\n",
       "4       46\n",
       "5       32\n",
       "6       30\n",
       "7       27\n",
       "8       26\n",
       "9       24\n",
       "10      22\n",
       "11      21\n",
       "12      20\n",
       "13      20\n",
       "15      19\n",
       "14      19\n",
       "16      19\n",
       "17      16\n",
       "19      15\n",
       "18      15\n",
       "20      15\n",
       "21      14\n",
       "22      14\n",
       "24      14\n",
       "23      14\n",
       "25      14\n",
       "28      12\n",
       "26      12\n",
       "29      12\n",
       "27      12\n",
       "33      11\n",
       "32      11\n",
       "30      11\n",
       "31      11\n",
       "39      10\n",
       "36      10\n",
       "38      10\n",
       "34      10\n",
       "40      10\n",
       "37      10\n",
       "35      10\n",
       "Name: location, dtype: int64"
      ]
     },
     "execution_count": 12,
     "metadata": {},
     "output_type": "execute_result"
    }
   ],
   "source": [
    "location_encoded.value_counts()"
   ]
  },
  {
   "cell_type": "markdown",
   "id": "9b55d1bb-57d0-464f-a77f-18800bacc819",
   "metadata": {
    "tags": []
   },
   "source": [
    "# Text"
   ]
  },
  {
   "cell_type": "code",
   "execution_count": 13,
   "id": "e5aec554-2c89-4f99-b6e3-729e4b85886b",
   "metadata": {
    "execution": {
     "iopub.execute_input": "2022-10-20T03:59:56.866191Z",
     "iopub.status.busy": "2022-10-20T03:59:56.865852Z",
     "iopub.status.idle": "2022-10-20T03:59:58.018150Z",
     "shell.execute_reply": "2022-10-20T03:59:58.017428Z",
     "shell.execute_reply.started": "2022-10-20T03:59:56.866176Z"
    },
    "tags": []
   },
   "outputs": [
    {
     "data": {
      "text/plain": [
       "id\n",
       "1        [our, deeds, are, the, reason, of, this, #, ea...\n",
       "4         [forest, fire, near, la, ronge, sask, ., canada]\n",
       "5        [all, residents, asked, to, 'shelter, in, plac...\n",
       "6        [13,000, people, receive, #, wildfires, evacua...\n",
       "7        [just, got, sent, this, photo, from, ruby, #, ...\n",
       "                               ...                        \n",
       "10869    [two, giant, cranes, holding, a, bridge, colla...\n",
       "10870    [@, aria_ahrary, @, thetawniest, the, out, of,...\n",
       "10871    [m1.94, [, 01:04, utc, ], ?, 5km, s, of, volca...\n",
       "10872    [police, investigating, after, an, e-bike, col...\n",
       "10873    [the, latest, :, more, homes, razed, by, north...\n",
       "Name: text, Length: 7613, dtype: object"
      ]
     },
     "execution_count": 13,
     "metadata": {},
     "output_type": "execute_result"
    }
   ],
   "source": [
    "def text_tokenize(text):\n",
    "    text = text.lower()\n",
    "    text = word_tokenize(text)\n",
    "    return text\n",
    "\n",
    "text_tokenized = Data.text.map(text_tokenize)\n",
    "text_tokenized"
   ]
  },
  {
   "cell_type": "code",
   "execution_count": 14,
   "id": "1565ff1b-35c1-4106-b133-4357be0f4bef",
   "metadata": {
    "execution": {
     "iopub.execute_input": "2022-10-20T03:59:58.019169Z",
     "iopub.status.busy": "2022-10-20T03:59:58.018906Z",
     "iopub.status.idle": "2022-10-20T03:59:58.046514Z",
     "shell.execute_reply": "2022-10-20T03:59:58.045783Z",
     "shell.execute_reply.started": "2022-10-20T03:59:58.019153Z"
    },
    "tags": []
   },
   "outputs": [
    {
     "data": {
      "text/plain": [
       "xboxone                 1\n",
       "//t.co/y8xknpqmnj       1\n",
       "//t.co/kvnahthuwz       1\n",
       "20177-707d              1\n",
       "oem                     1\n",
       "                     ... \n",
       "?                    3126\n",
       "the                  3233\n",
       "#                    3403\n",
       "http                 4307\n",
       ":                    6706\n",
       "Length: 23055, dtype: int64"
      ]
     },
     "execution_count": 14,
     "metadata": {},
     "output_type": "execute_result"
    }
   ],
   "source": [
    "token_counts = collections.Counter(itertools.chain(*text_tokenized))\n",
    "token_counts = pd.Series(token_counts)\n",
    "token_counts = token_counts.sort_values()\n",
    "token_counts"
   ]
  },
  {
   "cell_type": "code",
   "execution_count": 15,
   "id": "dc53aee6-d56d-4555-98c4-534739642770",
   "metadata": {
    "execution": {
     "iopub.execute_input": "2022-10-20T03:59:58.047505Z",
     "iopub.status.busy": "2022-10-20T03:59:58.047266Z",
     "iopub.status.idle": "2022-10-20T03:59:58.053296Z",
     "shell.execute_reply": "2022-10-20T03:59:58.052566Z",
     "shell.execute_reply.started": "2022-10-20T03:59:58.047489Z"
    },
    "tags": []
   },
   "outputs": [
    {
     "data": {
      "text/plain": [
       "return      10\n",
       "saving      10\n",
       "issue       10\n",
       "v           10\n",
       "colour      10\n",
       "          ... \n",
       "?         3126\n",
       "the       3233\n",
       "#         3403\n",
       "http      4307\n",
       ":         6706\n",
       "Length: 1589, dtype: int64"
      ]
     },
     "execution_count": 15,
     "metadata": {},
     "output_type": "execute_result"
    }
   ],
   "source": [
    "token_counts = token_counts[token_counts>=10]\n",
    "token_counts"
   ]
  },
  {
   "cell_type": "code",
   "execution_count": 16,
   "id": "854f62de-d3cb-4c69-926a-7cd2a34957cf",
   "metadata": {
    "execution": {
     "iopub.execute_input": "2022-10-20T03:59:58.054283Z",
     "iopub.status.busy": "2022-10-20T03:59:58.054047Z",
     "iopub.status.idle": "2022-10-20T03:59:58.060145Z",
     "shell.execute_reply": "2022-10-20T03:59:58.059417Z",
     "shell.execute_reply.started": "2022-10-20T03:59:58.054267Z"
    },
    "tags": []
   },
   "outputs": [
    {
     "data": {
      "text/plain": [
       "return       1\n",
       "saving       2\n",
       "issue        3\n",
       "v            4\n",
       "colour       5\n",
       "          ... \n",
       "?         1585\n",
       "the       1586\n",
       "#         1587\n",
       "http      1588\n",
       ":         1589\n",
       "Length: 1589, dtype: int64"
      ]
     },
     "execution_count": 16,
     "metadata": {},
     "output_type": "execute_result"
    }
   ],
   "source": [
    "token_index = pd.Series(range(1, 1+len(token_counts)), index=token_counts.index)\n",
    "token_index"
   ]
  },
  {
   "cell_type": "code",
   "execution_count": 17,
   "id": "a8ad0f5e-ca54-4066-8606-2b5cb7ff8c25",
   "metadata": {
    "execution": {
     "iopub.execute_input": "2022-10-20T03:59:58.061126Z",
     "iopub.status.busy": "2022-10-20T03:59:58.060892Z",
     "iopub.status.idle": "2022-10-20T03:59:58.462641Z",
     "shell.execute_reply": "2022-10-20T03:59:58.461923Z",
     "shell.execute_reply.started": "2022-10-20T03:59:58.061111Z"
    },
    "tags": []
   },
   "outputs": [
    {
     "data": {
      "text/plain": [
       "id\n",
       "1        [1454, 1556, 1586, 721, 1579, 1560, 1587, 1306...\n",
       "4                       [1385, 1529, 1341, 748, 1584, 379]\n",
       "5        [1533, 1580, 1581, 885, 1567, 1556, 1445, 1561...\n",
       "6                  [1515, 1587, 85, 1315, 179, 1581, 1482]\n",
       "7        [1542, 1488, 358, 1560, 1230, 1557, 1587, 1546...\n",
       "                               ...                        \n",
       "10869    [1456, 742, 297, 503, 1582, 1223, 1415, 1507, ...\n",
       "10870    [1583, 1583, 1586, 1538, 1579, 854, 1309, 1462...\n",
       "10871    [1496, 96, 1495, 1585, 64, 1299, 1579, 1010, 6...\n",
       "10872    [1499, 484, 1535, 1530, 1241, 1563, 1582, 1442...\n",
       "10873    [1586, 1362, 1589, 1519, 1372, 1049, 1561, 138...\n",
       "Name: text, Length: 7613, dtype: object"
      ]
     },
     "execution_count": 17,
     "metadata": {},
     "output_type": "execute_result"
    }
   ],
   "source": [
    "def text_index(tokens):\n",
    "    return [token_index[token] for token in tokens if token in token_index]\n",
    "\n",
    "text_encoded = text_tokenized.map(text_index)\n",
    "text_encoded"
   ]
  },
  {
   "cell_type": "code",
   "execution_count": 18,
   "id": "09a63d7f-66fa-4375-8ffa-f82bcdee5d48",
   "metadata": {
    "execution": {
     "iopub.execute_input": "2022-10-20T03:59:58.463572Z",
     "iopub.status.busy": "2022-10-20T03:59:58.463397Z",
     "iopub.status.idle": "2022-10-20T03:59:58.472189Z",
     "shell.execute_reply": "2022-10-20T03:59:58.471471Z",
     "shell.execute_reply.started": "2022-10-20T03:59:58.463556Z"
    },
    "tags": []
   },
   "outputs": [
    {
     "data": {
      "text/plain": [
       "count    7613.000000\n",
       "mean       14.362800\n",
       "std         6.063098\n",
       "min         0.000000\n",
       "25%        10.000000\n",
       "50%        14.000000\n",
       "75%        19.000000\n",
       "max        67.000000\n",
       "Name: text, dtype: float64"
      ]
     },
     "execution_count": 18,
     "metadata": {},
     "output_type": "execute_result"
    }
   ],
   "source": [
    "text_encoded.map(len).describe()"
   ]
  },
  {
   "cell_type": "code",
   "execution_count": 19,
   "id": "0ebc1a5f-1d77-4298-a3d8-e0c9b9596ecc",
   "metadata": {
    "execution": {
     "iopub.execute_input": "2022-10-20T03:59:58.473184Z",
     "iopub.status.busy": "2022-10-20T03:59:58.472940Z",
     "iopub.status.idle": "2022-10-20T03:59:58.490135Z",
     "shell.execute_reply": "2022-10-20T03:59:58.489398Z",
     "shell.execute_reply.started": "2022-10-20T03:59:58.473168Z"
    },
    "tags": []
   },
   "outputs": [
    {
     "data": {
      "text/plain": [
       "id\n",
       "1        [1454, 1556, 1586, 721, 1579, 1560, 1587, 1306...\n",
       "4        [1385, 1529, 1341, 748, 1584, 379, 0, 0, 0, 0,...\n",
       "5        [1533, 1580, 1581, 885, 1567, 1556, 1445, 1561...\n",
       "6        [1515, 1587, 85, 1315, 179, 1581, 1482, 0, 0, ...\n",
       "7        [1542, 1488, 358, 1560, 1230, 1557, 1587, 1546...\n",
       "                               ...                        \n",
       "10869    [1456, 742, 297, 503, 1582, 1223, 1415, 1507, ...\n",
       "10870    [1583, 1583, 1586, 1538, 1579, 854, 1309, 1462...\n",
       "10871    [1496, 96, 1495, 1585, 64, 1299, 1579, 1010, 6...\n",
       "10872    [1499, 484, 1535, 1530, 1241, 1563, 1582, 1442...\n",
       "10873    [1586, 1362, 1589, 1519, 1372, 1049, 1561, 138...\n",
       "Name: text, Length: 7613, dtype: object"
      ]
     },
     "execution_count": 19,
     "metadata": {},
     "output_type": "execute_result"
    }
   ],
   "source": [
    "def text_pad(tokens, size=67, idx=0):\n",
    "    return tokens + [idx] * (size - len(tokens))\n",
    "\n",
    "text_encoded = text_encoded.map(text_pad)\n",
    "text_encoded"
   ]
  },
  {
   "cell_type": "code",
   "execution_count": 20,
   "id": "ff26cb66-5918-4fe8-9c50-d6cda64e8e8e",
   "metadata": {
    "execution": {
     "iopub.execute_input": "2022-10-20T03:59:58.491119Z",
     "iopub.status.busy": "2022-10-20T03:59:58.490881Z",
     "iopub.status.idle": "2022-10-20T03:59:58.596747Z",
     "shell.execute_reply": "2022-10-20T03:59:58.596013Z",
     "shell.execute_reply.started": "2022-10-20T03:59:58.491104Z"
    },
    "tags": []
   },
   "outputs": [
    {
     "data": {
      "text/html": [
       "<div>\n",
       "<style scoped>\n",
       "    .dataframe tbody tr th:only-of-type {\n",
       "        vertical-align: middle;\n",
       "    }\n",
       "\n",
       "    .dataframe tbody tr th {\n",
       "        vertical-align: top;\n",
       "    }\n",
       "\n",
       "    .dataframe thead th {\n",
       "        text-align: right;\n",
       "    }\n",
       "</style>\n",
       "<table border=\"1\" class=\"dataframe\">\n",
       "  <thead>\n",
       "    <tr style=\"text-align: right;\">\n",
       "      <th></th>\n",
       "      <th>0</th>\n",
       "      <th>1</th>\n",
       "      <th>2</th>\n",
       "      <th>3</th>\n",
       "      <th>4</th>\n",
       "      <th>5</th>\n",
       "      <th>6</th>\n",
       "      <th>7</th>\n",
       "      <th>8</th>\n",
       "      <th>9</th>\n",
       "      <th>...</th>\n",
       "      <th>57</th>\n",
       "      <th>58</th>\n",
       "      <th>59</th>\n",
       "      <th>60</th>\n",
       "      <th>61</th>\n",
       "      <th>62</th>\n",
       "      <th>63</th>\n",
       "      <th>64</th>\n",
       "      <th>65</th>\n",
       "      <th>66</th>\n",
       "    </tr>\n",
       "    <tr>\n",
       "      <th>id</th>\n",
       "      <th></th>\n",
       "      <th></th>\n",
       "      <th></th>\n",
       "      <th></th>\n",
       "      <th></th>\n",
       "      <th></th>\n",
       "      <th></th>\n",
       "      <th></th>\n",
       "      <th></th>\n",
       "      <th></th>\n",
       "      <th></th>\n",
       "      <th></th>\n",
       "      <th></th>\n",
       "      <th></th>\n",
       "      <th></th>\n",
       "      <th></th>\n",
       "      <th></th>\n",
       "      <th></th>\n",
       "      <th></th>\n",
       "      <th></th>\n",
       "      <th></th>\n",
       "    </tr>\n",
       "  </thead>\n",
       "  <tbody>\n",
       "    <tr>\n",
       "      <th>1</th>\n",
       "      <td>1454</td>\n",
       "      <td>1556</td>\n",
       "      <td>1586</td>\n",
       "      <td>721</td>\n",
       "      <td>1579</td>\n",
       "      <td>1560</td>\n",
       "      <td>1587</td>\n",
       "      <td>1306</td>\n",
       "      <td>1437</td>\n",
       "      <td>1487</td>\n",
       "      <td>...</td>\n",
       "      <td>0</td>\n",
       "      <td>0</td>\n",
       "      <td>0</td>\n",
       "      <td>0</td>\n",
       "      <td>0</td>\n",
       "      <td>0</td>\n",
       "      <td>0</td>\n",
       "      <td>0</td>\n",
       "      <td>0</td>\n",
       "      <td>0</td>\n",
       "    </tr>\n",
       "    <tr>\n",
       "      <th>4</th>\n",
       "      <td>1385</td>\n",
       "      <td>1529</td>\n",
       "      <td>1341</td>\n",
       "      <td>748</td>\n",
       "      <td>1584</td>\n",
       "      <td>379</td>\n",
       "      <td>0</td>\n",
       "      <td>0</td>\n",
       "      <td>0</td>\n",
       "      <td>0</td>\n",
       "      <td>...</td>\n",
       "      <td>0</td>\n",
       "      <td>0</td>\n",
       "      <td>0</td>\n",
       "      <td>0</td>\n",
       "      <td>0</td>\n",
       "      <td>0</td>\n",
       "      <td>0</td>\n",
       "      <td>0</td>\n",
       "      <td>0</td>\n",
       "      <td>0</td>\n",
       "    </tr>\n",
       "    <tr>\n",
       "      <th>5</th>\n",
       "      <td>1533</td>\n",
       "      <td>1580</td>\n",
       "      <td>1581</td>\n",
       "      <td>885</td>\n",
       "      <td>1567</td>\n",
       "      <td>1556</td>\n",
       "      <td>1445</td>\n",
       "      <td>1561</td>\n",
       "      <td>1584</td>\n",
       "      <td>1532</td>\n",
       "      <td>...</td>\n",
       "      <td>0</td>\n",
       "      <td>0</td>\n",
       "      <td>0</td>\n",
       "      <td>0</td>\n",
       "      <td>0</td>\n",
       "      <td>0</td>\n",
       "      <td>0</td>\n",
       "      <td>0</td>\n",
       "      <td>0</td>\n",
       "      <td>0</td>\n",
       "    </tr>\n",
       "    <tr>\n",
       "      <th>6</th>\n",
       "      <td>1515</td>\n",
       "      <td>1587</td>\n",
       "      <td>85</td>\n",
       "      <td>1315</td>\n",
       "      <td>179</td>\n",
       "      <td>1581</td>\n",
       "      <td>1482</td>\n",
       "      <td>0</td>\n",
       "      <td>0</td>\n",
       "      <td>0</td>\n",
       "      <td>...</td>\n",
       "      <td>0</td>\n",
       "      <td>0</td>\n",
       "      <td>0</td>\n",
       "      <td>0</td>\n",
       "      <td>0</td>\n",
       "      <td>0</td>\n",
       "      <td>0</td>\n",
       "      <td>0</td>\n",
       "      <td>0</td>\n",
       "      <td>0</td>\n",
       "    </tr>\n",
       "    <tr>\n",
       "      <th>7</th>\n",
       "      <td>1542</td>\n",
       "      <td>1488</td>\n",
       "      <td>358</td>\n",
       "      <td>1560</td>\n",
       "      <td>1230</td>\n",
       "      <td>1557</td>\n",
       "      <td>1587</td>\n",
       "      <td>1546</td>\n",
       "      <td>1308</td>\n",
       "      <td>1557</td>\n",
       "      <td>...</td>\n",
       "      <td>0</td>\n",
       "      <td>0</td>\n",
       "      <td>0</td>\n",
       "      <td>0</td>\n",
       "      <td>0</td>\n",
       "      <td>0</td>\n",
       "      <td>0</td>\n",
       "      <td>0</td>\n",
       "      <td>0</td>\n",
       "      <td>0</td>\n",
       "    </tr>\n",
       "    <tr>\n",
       "      <th>...</th>\n",
       "      <td>...</td>\n",
       "      <td>...</td>\n",
       "      <td>...</td>\n",
       "      <td>...</td>\n",
       "      <td>...</td>\n",
       "      <td>...</td>\n",
       "      <td>...</td>\n",
       "      <td>...</td>\n",
       "      <td>...</td>\n",
       "      <td>...</td>\n",
       "      <td>...</td>\n",
       "      <td>...</td>\n",
       "      <td>...</td>\n",
       "      <td>...</td>\n",
       "      <td>...</td>\n",
       "      <td>...</td>\n",
       "      <td>...</td>\n",
       "      <td>...</td>\n",
       "      <td>...</td>\n",
       "      <td>...</td>\n",
       "      <td>...</td>\n",
       "    </tr>\n",
       "    <tr>\n",
       "      <th>10869</th>\n",
       "      <td>1456</td>\n",
       "      <td>742</td>\n",
       "      <td>297</td>\n",
       "      <td>503</td>\n",
       "      <td>1582</td>\n",
       "      <td>1223</td>\n",
       "      <td>1415</td>\n",
       "      <td>1507</td>\n",
       "      <td>922</td>\n",
       "      <td>1372</td>\n",
       "      <td>...</td>\n",
       "      <td>0</td>\n",
       "      <td>0</td>\n",
       "      <td>0</td>\n",
       "      <td>0</td>\n",
       "      <td>0</td>\n",
       "      <td>0</td>\n",
       "      <td>0</td>\n",
       "      <td>0</td>\n",
       "      <td>0</td>\n",
       "      <td>0</td>\n",
       "    </tr>\n",
       "    <tr>\n",
       "      <th>10870</th>\n",
       "      <td>1583</td>\n",
       "      <td>1583</td>\n",
       "      <td>1586</td>\n",
       "      <td>1538</td>\n",
       "      <td>1579</td>\n",
       "      <td>854</td>\n",
       "      <td>1309</td>\n",
       "      <td>1462</td>\n",
       "      <td>1581</td>\n",
       "      <td>1482</td>\n",
       "      <td>...</td>\n",
       "      <td>0</td>\n",
       "      <td>0</td>\n",
       "      <td>0</td>\n",
       "      <td>0</td>\n",
       "      <td>0</td>\n",
       "      <td>0</td>\n",
       "      <td>0</td>\n",
       "      <td>0</td>\n",
       "      <td>0</td>\n",
       "      <td>0</td>\n",
       "    </tr>\n",
       "    <tr>\n",
       "      <th>10871</th>\n",
       "      <td>1496</td>\n",
       "      <td>96</td>\n",
       "      <td>1495</td>\n",
       "      <td>1585</td>\n",
       "      <td>64</td>\n",
       "      <td>1299</td>\n",
       "      <td>1579</td>\n",
       "      <td>1010</td>\n",
       "      <td>60</td>\n",
       "      <td>1584</td>\n",
       "      <td>...</td>\n",
       "      <td>0</td>\n",
       "      <td>0</td>\n",
       "      <td>0</td>\n",
       "      <td>0</td>\n",
       "      <td>0</td>\n",
       "      <td>0</td>\n",
       "      <td>0</td>\n",
       "      <td>0</td>\n",
       "      <td>0</td>\n",
       "      <td>0</td>\n",
       "    </tr>\n",
       "    <tr>\n",
       "      <th>10872</th>\n",
       "      <td>1499</td>\n",
       "      <td>484</td>\n",
       "      <td>1535</td>\n",
       "      <td>1530</td>\n",
       "      <td>1241</td>\n",
       "      <td>1563</td>\n",
       "      <td>1582</td>\n",
       "      <td>1442</td>\n",
       "      <td>1581</td>\n",
       "      <td>1291</td>\n",
       "      <td>...</td>\n",
       "      <td>0</td>\n",
       "      <td>0</td>\n",
       "      <td>0</td>\n",
       "      <td>0</td>\n",
       "      <td>0</td>\n",
       "      <td>0</td>\n",
       "      <td>0</td>\n",
       "      <td>0</td>\n",
       "      <td>0</td>\n",
       "      <td>0</td>\n",
       "    </tr>\n",
       "    <tr>\n",
       "      <th>10873</th>\n",
       "      <td>1586</td>\n",
       "      <td>1362</td>\n",
       "      <td>1589</td>\n",
       "      <td>1519</td>\n",
       "      <td>1372</td>\n",
       "      <td>1049</td>\n",
       "      <td>1561</td>\n",
       "      <td>1381</td>\n",
       "      <td>1482</td>\n",
       "      <td>1403</td>\n",
       "      <td>...</td>\n",
       "      <td>0</td>\n",
       "      <td>0</td>\n",
       "      <td>0</td>\n",
       "      <td>0</td>\n",
       "      <td>0</td>\n",
       "      <td>0</td>\n",
       "      <td>0</td>\n",
       "      <td>0</td>\n",
       "      <td>0</td>\n",
       "      <td>0</td>\n",
       "    </tr>\n",
       "  </tbody>\n",
       "</table>\n",
       "<p>7613 rows × 67 columns</p>\n",
       "</div>"
      ],
      "text/plain": [
       "         0     1     2     3     4     5     6     7     8     9   ...  57  \\\n",
       "id                                                                 ...       \n",
       "1      1454  1556  1586   721  1579  1560  1587  1306  1437  1487  ...   0   \n",
       "4      1385  1529  1341   748  1584   379     0     0     0     0  ...   0   \n",
       "5      1533  1580  1581   885  1567  1556  1445  1561  1584  1532  ...   0   \n",
       "6      1515  1587    85  1315   179  1581  1482     0     0     0  ...   0   \n",
       "7      1542  1488   358  1560  1230  1557  1587  1546  1308  1557  ...   0   \n",
       "...     ...   ...   ...   ...   ...   ...   ...   ...   ...   ...  ...  ..   \n",
       "10869  1456   742   297   503  1582  1223  1415  1507   922  1372  ...   0   \n",
       "10870  1583  1583  1586  1538  1579   854  1309  1462  1581  1482  ...   0   \n",
       "10871  1496    96  1495  1585    64  1299  1579  1010    60  1584  ...   0   \n",
       "10872  1499   484  1535  1530  1241  1563  1582  1442  1581  1291  ...   0   \n",
       "10873  1586  1362  1589  1519  1372  1049  1561  1381  1482  1403  ...   0   \n",
       "\n",
       "       58  59  60  61  62  63  64  65  66  \n",
       "id                                         \n",
       "1       0   0   0   0   0   0   0   0   0  \n",
       "4       0   0   0   0   0   0   0   0   0  \n",
       "5       0   0   0   0   0   0   0   0   0  \n",
       "6       0   0   0   0   0   0   0   0   0  \n",
       "7       0   0   0   0   0   0   0   0   0  \n",
       "...    ..  ..  ..  ..  ..  ..  ..  ..  ..  \n",
       "10869   0   0   0   0   0   0   0   0   0  \n",
       "10870   0   0   0   0   0   0   0   0   0  \n",
       "10871   0   0   0   0   0   0   0   0   0  \n",
       "10872   0   0   0   0   0   0   0   0   0  \n",
       "10873   0   0   0   0   0   0   0   0   0  \n",
       "\n",
       "[7613 rows x 67 columns]"
      ]
     },
     "execution_count": 20,
     "metadata": {},
     "output_type": "execute_result"
    }
   ],
   "source": [
    "text_encoded = pd.DataFrame(text_encoded.to_list(), index=text_encoded.index)\n",
    "text_encoded"
   ]
  },
  {
   "cell_type": "markdown",
   "id": "4f3ce73d-5f50-4ccb-afae-542501307c0d",
   "metadata": {
    "jp-MarkdownHeadingCollapsed": true,
    "tags": []
   },
   "source": [
    "# Processed Data"
   ]
  },
  {
   "cell_type": "code",
   "execution_count": 21,
   "id": "b9e8b522-153a-4492-bbb1-ebf6bde55dd1",
   "metadata": {
    "execution": {
     "iopub.execute_input": "2022-10-20T03:59:58.597664Z",
     "iopub.status.busy": "2022-10-20T03:59:58.597496Z",
     "iopub.status.idle": "2022-10-20T03:59:58.613652Z",
     "shell.execute_reply": "2022-10-20T03:59:58.612930Z",
     "shell.execute_reply.started": "2022-10-20T03:59:58.597649Z"
    },
    "tags": []
   },
   "outputs": [
    {
     "data": {
      "text/html": [
       "<div>\n",
       "<style scoped>\n",
       "    .dataframe tbody tr th:only-of-type {\n",
       "        vertical-align: middle;\n",
       "    }\n",
       "\n",
       "    .dataframe tbody tr th {\n",
       "        vertical-align: top;\n",
       "    }\n",
       "\n",
       "    .dataframe thead th {\n",
       "        text-align: right;\n",
       "    }\n",
       "</style>\n",
       "<table border=\"1\" class=\"dataframe\">\n",
       "  <thead>\n",
       "    <tr style=\"text-align: right;\">\n",
       "      <th></th>\n",
       "      <th>keyword</th>\n",
       "      <th>location</th>\n",
       "      <th>0</th>\n",
       "      <th>1</th>\n",
       "      <th>2</th>\n",
       "      <th>3</th>\n",
       "      <th>4</th>\n",
       "      <th>5</th>\n",
       "      <th>6</th>\n",
       "      <th>7</th>\n",
       "      <th>...</th>\n",
       "      <th>57</th>\n",
       "      <th>58</th>\n",
       "      <th>59</th>\n",
       "      <th>60</th>\n",
       "      <th>61</th>\n",
       "      <th>62</th>\n",
       "      <th>63</th>\n",
       "      <th>64</th>\n",
       "      <th>65</th>\n",
       "      <th>66</th>\n",
       "    </tr>\n",
       "    <tr>\n",
       "      <th>id</th>\n",
       "      <th></th>\n",
       "      <th></th>\n",
       "      <th></th>\n",
       "      <th></th>\n",
       "      <th></th>\n",
       "      <th></th>\n",
       "      <th></th>\n",
       "      <th></th>\n",
       "      <th></th>\n",
       "      <th></th>\n",
       "      <th></th>\n",
       "      <th></th>\n",
       "      <th></th>\n",
       "      <th></th>\n",
       "      <th></th>\n",
       "      <th></th>\n",
       "      <th></th>\n",
       "      <th></th>\n",
       "      <th></th>\n",
       "      <th></th>\n",
       "      <th></th>\n",
       "    </tr>\n",
       "  </thead>\n",
       "  <tbody>\n",
       "    <tr>\n",
       "      <th>1</th>\n",
       "      <td>0</td>\n",
       "      <td>0</td>\n",
       "      <td>1454</td>\n",
       "      <td>1556</td>\n",
       "      <td>1586</td>\n",
       "      <td>721</td>\n",
       "      <td>1579</td>\n",
       "      <td>1560</td>\n",
       "      <td>1587</td>\n",
       "      <td>1306</td>\n",
       "      <td>...</td>\n",
       "      <td>0</td>\n",
       "      <td>0</td>\n",
       "      <td>0</td>\n",
       "      <td>0</td>\n",
       "      <td>0</td>\n",
       "      <td>0</td>\n",
       "      <td>0</td>\n",
       "      <td>0</td>\n",
       "      <td>0</td>\n",
       "      <td>0</td>\n",
       "    </tr>\n",
       "    <tr>\n",
       "      <th>4</th>\n",
       "      <td>0</td>\n",
       "      <td>0</td>\n",
       "      <td>1385</td>\n",
       "      <td>1529</td>\n",
       "      <td>1341</td>\n",
       "      <td>748</td>\n",
       "      <td>1584</td>\n",
       "      <td>379</td>\n",
       "      <td>0</td>\n",
       "      <td>0</td>\n",
       "      <td>...</td>\n",
       "      <td>0</td>\n",
       "      <td>0</td>\n",
       "      <td>0</td>\n",
       "      <td>0</td>\n",
       "      <td>0</td>\n",
       "      <td>0</td>\n",
       "      <td>0</td>\n",
       "      <td>0</td>\n",
       "      <td>0</td>\n",
       "      <td>0</td>\n",
       "    </tr>\n",
       "    <tr>\n",
       "      <th>5</th>\n",
       "      <td>0</td>\n",
       "      <td>0</td>\n",
       "      <td>1533</td>\n",
       "      <td>1580</td>\n",
       "      <td>1581</td>\n",
       "      <td>885</td>\n",
       "      <td>1567</td>\n",
       "      <td>1556</td>\n",
       "      <td>1445</td>\n",
       "      <td>1561</td>\n",
       "      <td>...</td>\n",
       "      <td>0</td>\n",
       "      <td>0</td>\n",
       "      <td>0</td>\n",
       "      <td>0</td>\n",
       "      <td>0</td>\n",
       "      <td>0</td>\n",
       "      <td>0</td>\n",
       "      <td>0</td>\n",
       "      <td>0</td>\n",
       "      <td>0</td>\n",
       "    </tr>\n",
       "    <tr>\n",
       "      <th>6</th>\n",
       "      <td>0</td>\n",
       "      <td>0</td>\n",
       "      <td>1515</td>\n",
       "      <td>1587</td>\n",
       "      <td>85</td>\n",
       "      <td>1315</td>\n",
       "      <td>179</td>\n",
       "      <td>1581</td>\n",
       "      <td>1482</td>\n",
       "      <td>0</td>\n",
       "      <td>...</td>\n",
       "      <td>0</td>\n",
       "      <td>0</td>\n",
       "      <td>0</td>\n",
       "      <td>0</td>\n",
       "      <td>0</td>\n",
       "      <td>0</td>\n",
       "      <td>0</td>\n",
       "      <td>0</td>\n",
       "      <td>0</td>\n",
       "      <td>0</td>\n",
       "    </tr>\n",
       "    <tr>\n",
       "      <th>7</th>\n",
       "      <td>0</td>\n",
       "      <td>0</td>\n",
       "      <td>1542</td>\n",
       "      <td>1488</td>\n",
       "      <td>358</td>\n",
       "      <td>1560</td>\n",
       "      <td>1230</td>\n",
       "      <td>1557</td>\n",
       "      <td>1587</td>\n",
       "      <td>1546</td>\n",
       "      <td>...</td>\n",
       "      <td>0</td>\n",
       "      <td>0</td>\n",
       "      <td>0</td>\n",
       "      <td>0</td>\n",
       "      <td>0</td>\n",
       "      <td>0</td>\n",
       "      <td>0</td>\n",
       "      <td>0</td>\n",
       "      <td>0</td>\n",
       "      <td>0</td>\n",
       "    </tr>\n",
       "    <tr>\n",
       "      <th>...</th>\n",
       "      <td>...</td>\n",
       "      <td>...</td>\n",
       "      <td>...</td>\n",
       "      <td>...</td>\n",
       "      <td>...</td>\n",
       "      <td>...</td>\n",
       "      <td>...</td>\n",
       "      <td>...</td>\n",
       "      <td>...</td>\n",
       "      <td>...</td>\n",
       "      <td>...</td>\n",
       "      <td>...</td>\n",
       "      <td>...</td>\n",
       "      <td>...</td>\n",
       "      <td>...</td>\n",
       "      <td>...</td>\n",
       "      <td>...</td>\n",
       "      <td>...</td>\n",
       "      <td>...</td>\n",
       "      <td>...</td>\n",
       "      <td>...</td>\n",
       "    </tr>\n",
       "    <tr>\n",
       "      <th>10869</th>\n",
       "      <td>0</td>\n",
       "      <td>0</td>\n",
       "      <td>1456</td>\n",
       "      <td>742</td>\n",
       "      <td>297</td>\n",
       "      <td>503</td>\n",
       "      <td>1582</td>\n",
       "      <td>1223</td>\n",
       "      <td>1415</td>\n",
       "      <td>1507</td>\n",
       "      <td>...</td>\n",
       "      <td>0</td>\n",
       "      <td>0</td>\n",
       "      <td>0</td>\n",
       "      <td>0</td>\n",
       "      <td>0</td>\n",
       "      <td>0</td>\n",
       "      <td>0</td>\n",
       "      <td>0</td>\n",
       "      <td>0</td>\n",
       "      <td>0</td>\n",
       "    </tr>\n",
       "    <tr>\n",
       "      <th>10870</th>\n",
       "      <td>0</td>\n",
       "      <td>0</td>\n",
       "      <td>1583</td>\n",
       "      <td>1583</td>\n",
       "      <td>1586</td>\n",
       "      <td>1538</td>\n",
       "      <td>1579</td>\n",
       "      <td>854</td>\n",
       "      <td>1309</td>\n",
       "      <td>1462</td>\n",
       "      <td>...</td>\n",
       "      <td>0</td>\n",
       "      <td>0</td>\n",
       "      <td>0</td>\n",
       "      <td>0</td>\n",
       "      <td>0</td>\n",
       "      <td>0</td>\n",
       "      <td>0</td>\n",
       "      <td>0</td>\n",
       "      <td>0</td>\n",
       "      <td>0</td>\n",
       "    </tr>\n",
       "    <tr>\n",
       "      <th>10871</th>\n",
       "      <td>0</td>\n",
       "      <td>0</td>\n",
       "      <td>1496</td>\n",
       "      <td>96</td>\n",
       "      <td>1495</td>\n",
       "      <td>1585</td>\n",
       "      <td>64</td>\n",
       "      <td>1299</td>\n",
       "      <td>1579</td>\n",
       "      <td>1010</td>\n",
       "      <td>...</td>\n",
       "      <td>0</td>\n",
       "      <td>0</td>\n",
       "      <td>0</td>\n",
       "      <td>0</td>\n",
       "      <td>0</td>\n",
       "      <td>0</td>\n",
       "      <td>0</td>\n",
       "      <td>0</td>\n",
       "      <td>0</td>\n",
       "      <td>0</td>\n",
       "    </tr>\n",
       "    <tr>\n",
       "      <th>10872</th>\n",
       "      <td>0</td>\n",
       "      <td>0</td>\n",
       "      <td>1499</td>\n",
       "      <td>484</td>\n",
       "      <td>1535</td>\n",
       "      <td>1530</td>\n",
       "      <td>1241</td>\n",
       "      <td>1563</td>\n",
       "      <td>1582</td>\n",
       "      <td>1442</td>\n",
       "      <td>...</td>\n",
       "      <td>0</td>\n",
       "      <td>0</td>\n",
       "      <td>0</td>\n",
       "      <td>0</td>\n",
       "      <td>0</td>\n",
       "      <td>0</td>\n",
       "      <td>0</td>\n",
       "      <td>0</td>\n",
       "      <td>0</td>\n",
       "      <td>0</td>\n",
       "    </tr>\n",
       "    <tr>\n",
       "      <th>10873</th>\n",
       "      <td>0</td>\n",
       "      <td>0</td>\n",
       "      <td>1586</td>\n",
       "      <td>1362</td>\n",
       "      <td>1589</td>\n",
       "      <td>1519</td>\n",
       "      <td>1372</td>\n",
       "      <td>1049</td>\n",
       "      <td>1561</td>\n",
       "      <td>1381</td>\n",
       "      <td>...</td>\n",
       "      <td>0</td>\n",
       "      <td>0</td>\n",
       "      <td>0</td>\n",
       "      <td>0</td>\n",
       "      <td>0</td>\n",
       "      <td>0</td>\n",
       "      <td>0</td>\n",
       "      <td>0</td>\n",
       "      <td>0</td>\n",
       "      <td>0</td>\n",
       "    </tr>\n",
       "  </tbody>\n",
       "</table>\n",
       "<p>7613 rows × 69 columns</p>\n",
       "</div>"
      ],
      "text/plain": [
       "       keyword  location     0     1     2     3     4     5     6     7  ...  \\\n",
       "id                                                                        ...   \n",
       "1            0         0  1454  1556  1586   721  1579  1560  1587  1306  ...   \n",
       "4            0         0  1385  1529  1341   748  1584   379     0     0  ...   \n",
       "5            0         0  1533  1580  1581   885  1567  1556  1445  1561  ...   \n",
       "6            0         0  1515  1587    85  1315   179  1581  1482     0  ...   \n",
       "7            0         0  1542  1488   358  1560  1230  1557  1587  1546  ...   \n",
       "...        ...       ...   ...   ...   ...   ...   ...   ...   ...   ...  ...   \n",
       "10869        0         0  1456   742   297   503  1582  1223  1415  1507  ...   \n",
       "10870        0         0  1583  1583  1586  1538  1579   854  1309  1462  ...   \n",
       "10871        0         0  1496    96  1495  1585    64  1299  1579  1010  ...   \n",
       "10872        0         0  1499   484  1535  1530  1241  1563  1582  1442  ...   \n",
       "10873        0         0  1586  1362  1589  1519  1372  1049  1561  1381  ...   \n",
       "\n",
       "       57  58  59  60  61  62  63  64  65  66  \n",
       "id                                             \n",
       "1       0   0   0   0   0   0   0   0   0   0  \n",
       "4       0   0   0   0   0   0   0   0   0   0  \n",
       "5       0   0   0   0   0   0   0   0   0   0  \n",
       "6       0   0   0   0   0   0   0   0   0   0  \n",
       "7       0   0   0   0   0   0   0   0   0   0  \n",
       "...    ..  ..  ..  ..  ..  ..  ..  ..  ..  ..  \n",
       "10869   0   0   0   0   0   0   0   0   0   0  \n",
       "10870   0   0   0   0   0   0   0   0   0   0  \n",
       "10871   0   0   0   0   0   0   0   0   0   0  \n",
       "10872   0   0   0   0   0   0   0   0   0   0  \n",
       "10873   0   0   0   0   0   0   0   0   0   0  \n",
       "\n",
       "[7613 rows x 69 columns]"
      ]
     },
     "execution_count": 21,
     "metadata": {},
     "output_type": "execute_result"
    }
   ],
   "source": [
    "X = pd.DataFrame({\n",
    "    'keyword': keyword_encoded,\n",
    "    'location': location_encoded,\n",
    "})\n",
    "X = pd.concat([X, text_encoded], axis=1)\n",
    "X"
   ]
  },
  {
   "cell_type": "code",
   "execution_count": 22,
   "id": "373e0207-bcc8-46ca-83a5-e4c1184b9ba5",
   "metadata": {
    "execution": {
     "iopub.execute_input": "2022-10-20T03:59:58.614561Z",
     "iopub.status.busy": "2022-10-20T03:59:58.614394Z",
     "iopub.status.idle": "2022-10-20T03:59:58.620053Z",
     "shell.execute_reply": "2022-10-20T03:59:58.619335Z",
     "shell.execute_reply.started": "2022-10-20T03:59:58.614546Z"
    },
    "tags": []
   },
   "outputs": [
    {
     "data": {
      "text/plain": [
       "0    4342\n",
       "1    3271\n",
       "Name: target, dtype: int64"
      ]
     },
     "execution_count": 22,
     "metadata": {},
     "output_type": "execute_result"
    }
   ],
   "source": [
    "Y = Data.target\n",
    "Y.value_counts()"
   ]
  },
  {
   "cell_type": "code",
   "execution_count": 23,
   "id": "b816c273-58cd-4bb7-aa27-3fb7a782ad2f",
   "metadata": {
    "execution": {
     "iopub.execute_input": "2022-10-20T03:59:58.620956Z",
     "iopub.status.busy": "2022-10-20T03:59:58.620783Z",
     "iopub.status.idle": "2022-10-20T03:59:58.630578Z",
     "shell.execute_reply": "2022-10-20T03:59:58.629861Z",
     "shell.execute_reply.started": "2022-10-20T03:59:58.620940Z"
    },
    "tags": []
   },
   "outputs": [
    {
     "data": {
      "text/plain": [
       "((5709, 69), (1904, 69), (5709,), (1904,))"
      ]
     },
     "execution_count": 23,
     "metadata": {},
     "output_type": "execute_result"
    }
   ],
   "source": [
    "X = X.values\n",
    "Y = Y.values\n",
    "X_train, X_test, Y_train, Y_test = model_selection.train_test_split(X, Y)\n",
    "X_train.shape, X_test.shape, Y_train.shape, Y_test.shape"
   ]
  },
  {
   "cell_type": "code",
   "execution_count": 25,
   "id": "bedb6db3",
   "metadata": {},
   "outputs": [],
   "source": [
    "# saving to picke file\n",
    "pd.to_pickle(X, '/Users/harshvardhan/Dropbox/Fall 2022/BZAN 620/Python/DataOptimization-Forked/X_TextCNN.pkl')\n",
    "pd.to_pickle(Y, '/Users/harshvardhan/Dropbox/Fall 2022/BZAN 620/Python/DataOptimization-Forked/y_TextCNN.pkl')"
   ]
  },
  {
   "cell_type": "markdown",
   "id": "f0784fa7-fc10-458e-a8e0-a43789e91d12",
   "metadata": {
    "execution": {
     "iopub.execute_input": "2022-10-17T03:22:34.505215Z",
     "iopub.status.busy": "2022-10-17T03:22:34.504582Z",
     "iopub.status.idle": "2022-10-17T03:22:34.545340Z",
     "shell.execute_reply": "2022-10-17T03:22:34.543636Z",
     "shell.execute_reply.started": "2022-10-17T03:22:34.505165Z"
    },
    "tags": []
   },
   "source": [
    "# Model"
   ]
  },
  {
   "cell_type": "code",
   "execution_count": 24,
   "id": "57221636-ada9-47b2-b1f3-afa445c93d4b",
   "metadata": {
    "execution": {
     "iopub.execute_input": "2022-10-20T03:59:58.631499Z",
     "iopub.status.busy": "2022-10-20T03:59:58.631331Z",
     "iopub.status.idle": "2022-10-20T03:59:58.638304Z",
     "shell.execute_reply": "2022-10-20T03:59:58.637572Z",
     "shell.execute_reply.started": "2022-10-20T03:59:58.631484Z"
    },
    "tags": []
   },
   "outputs": [],
   "source": [
    "class Model(nn.Module):\n",
    "    def __init__(self, num_keywords, num_locations, num_tokens, embedding_dim, out_channels):\n",
    "        super().__init__()\n",
    "\n",
    "        # converting vectors `num_keywords` to a vector of length `embedding_dim`\n",
    "        # All embedding_dim lengths should be different depending on the number of unique values for that column\n",
    "        self.keyword_embedding = nn.Embedding(num_embeddings=num_keywords, embedding_dim=embedding_dim)\n",
    "        self.location_embedding = nn.Embedding(num_embeddings=num_locations, embedding_dim=embedding_dim)\n",
    "        self.text_embedding = nn.Embedding(num_embeddings=1+num_tokens, embedding_dim=embedding_dim, padding_idx=0)\n",
    "        \n",
    "        # one dimensional convolutional layer\n",
    "        # scan every three letters with kernel size 3\n",
    "        self.conv3 = nn.Conv1d(in_channels=embedding_dim, out_channels=out_channels, kernel_size=3, stride=2)\n",
    "        self.conv5 = nn.Conv1d(in_channels=embedding_dim, out_channels=out_channels, kernel_size=5, stride=2)\n",
    "        \n",
    "        # finding the largest embedding. Why max? Because largest embedding will be the most important\n",
    "        self.pool = nn.AdaptiveMaxPool1d(1)\n",
    "        self.act = nn.ReLU()\n",
    "        self.fc = nn.Linear(embedding_dim+embedding_dim+out_channels+out_channels, 2)\n",
    "        self.out = nn.Softmax(dim=1)\n",
    "        self.dropout = nn.Dropout(0.25)\n",
    "    def forward(self, x):\n",
    "        keyword_embedding = self.keyword_embedding(x[:, 0])\n",
    "        location_embedding = self.location_embedding(x[:, 1])\n",
    "        text_embedding = self.text_embedding(x[:, 2:])\n",
    "        text_embedding = text_embedding.permute(0,2,1)\n",
    "        text_conv3 = self.pool(self.act(self.conv3(text_embedding))).squeeze()\n",
    "        text_conv5 = self.pool(self.act(self.conv5(text_embedding))).squeeze()\n",
    "        x = torch.cat([keyword_embedding, location_embedding, text_conv3, text_conv5], dim=1)\n",
    "        \n",
    "        # fully connected layer\n",
    "        x = self.fc(x)\n",
    "        x = self.dropout(x)\n",
    "        return self.out(x)"
   ]
  },
  {
   "cell_type": "code",
   "execution_count": 25,
   "id": "70ef2b26-0858-4f07-be5b-de73a9e155f8",
   "metadata": {
    "execution": {
     "iopub.execute_input": "2022-10-20T03:59:58.639289Z",
     "iopub.status.busy": "2022-10-20T03:59:58.639056Z",
     "iopub.status.idle": "2022-10-20T03:59:58.668917Z",
     "shell.execute_reply": "2022-10-20T03:59:58.668189Z",
     "shell.execute_reply.started": "2022-10-20T03:59:58.639273Z"
    },
    "tags": []
   },
   "outputs": [
    {
     "data": {
      "text/plain": [
       "Model(\n",
       "  (keyword_embedding): Embedding(222, 50)\n",
       "  (location_embedding): Embedding(41, 50)\n",
       "  (text_embedding): Embedding(1590, 50, padding_idx=0)\n",
       "  (conv3): Conv1d(50, 32, kernel_size=(3,), stride=(2,))\n",
       "  (conv5): Conv1d(50, 32, kernel_size=(5,), stride=(2,))\n",
       "  (pool): AdaptiveMaxPool1d(output_size=1)\n",
       "  (act): ReLU()\n",
       "  (fc): Linear(in_features=164, out_features=2, bias=True)\n",
       "  (out): Softmax(dim=1)\n",
       "  (dropout): Dropout(p=0.25, inplace=False)\n",
       ")"
      ]
     },
     "execution_count": 25,
     "metadata": {},
     "output_type": "execute_result"
    }
   ],
   "source": [
    "model = Model(\n",
    "    num_keywords = len(keyword_index),\n",
    "    num_locations = len(location_index),\n",
    "    num_tokens = len(token_index),\n",
    "    embedding_dim = 50,\n",
    "    out_channels = 32,\n",
    ")\n",
    "model"
   ]
  },
  {
   "cell_type": "code",
   "execution_count": 26,
   "id": "a76b12f1-4101-44a2-858e-168eca48d110",
   "metadata": {
    "execution": {
     "iopub.execute_input": "2022-10-20T03:59:58.669837Z",
     "iopub.status.busy": "2022-10-20T03:59:58.669664Z",
     "iopub.status.idle": "2022-10-20T03:59:58.673303Z",
     "shell.execute_reply": "2022-10-20T03:59:58.672566Z",
     "shell.execute_reply.started": "2022-10-20T03:59:58.669822Z"
    },
    "tags": []
   },
   "outputs": [],
   "source": [
    "classifier = NeuralNetClassifier(\n",
    "    model,\n",
    "    max_epochs=100,\n",
    "    lr=0.05,\n",
    "    iterator_train__shuffle=True,\n",
    ")"
   ]
  },
  {
   "cell_type": "code",
   "execution_count": 27,
   "id": "dcd2e990-c0fa-48cb-b558-70918bc2a925",
   "metadata": {
    "execution": {
     "iopub.execute_input": "2022-10-20T03:59:58.674201Z",
     "iopub.status.busy": "2022-10-20T03:59:58.674036Z",
     "iopub.status.idle": "2022-10-20T04:00:16.539103Z",
     "shell.execute_reply": "2022-10-20T04:00:16.538543Z",
     "shell.execute_reply.started": "2022-10-20T03:59:58.674186Z"
    },
    "tags": []
   },
   "outputs": [
    {
     "ename": "",
     "evalue": "",
     "output_type": "error",
     "traceback": [
      "\u001b[1;31mThe Kernel crashed while executing code in the the current cell or a previous cell. Please review the code in the cell(s) to identify a possible cause of the failure. Click <a href='https://aka.ms/vscodeJupyterKernelCrash'>here</a> for more info. View Jupyter <a href='command:jupyter.viewOutput'>log</a> for further details."
     ]
    },
    {
     "ename": "",
     "evalue": "",
     "output_type": "error",
     "traceback": [
      "\u001b[1;31mCanceled future for execute_request message before replies were done"
     ]
    }
   ],
   "source": [
    "classifier.fit(X_train, Y_train)"
   ]
  },
  {
   "cell_type": "code",
   "execution_count": 28,
   "id": "94aaaa1f-e669-459b-a697-5da61c1130f6",
   "metadata": {
    "execution": {
     "iopub.execute_input": "2022-10-20T04:00:16.542210Z",
     "iopub.status.busy": "2022-10-20T04:00:16.541945Z",
     "iopub.status.idle": "2022-10-20T04:00:16.647229Z",
     "shell.execute_reply": "2022-10-20T04:00:16.646725Z",
     "shell.execute_reply.started": "2022-10-20T04:00:16.542192Z"
    },
    "tags": []
   },
   "outputs": [
    {
     "name": "stdout",
     "output_type": "stream",
     "text": [
      "              precision    recall  f1-score   support\n",
      "\n",
      "           0       0.94      0.94      0.94      3270\n",
      "           1       0.92      0.91      0.92      2439\n",
      "\n",
      "    accuracy                           0.93      5709\n",
      "   macro avg       0.93      0.93      0.93      5709\n",
      "weighted avg       0.93      0.93      0.93      5709\n",
      "\n"
     ]
    }
   ],
   "source": [
    "print(metrics.classification_report(Y_train, classifier.predict(X_train)))"
   ]
  },
  {
   "cell_type": "code",
   "execution_count": 29,
   "id": "b3d040fd-9ace-442e-98b7-e0a1a50cebdc",
   "metadata": {
    "execution": {
     "iopub.execute_input": "2022-10-20T04:00:16.648504Z",
     "iopub.status.busy": "2022-10-20T04:00:16.648031Z",
     "iopub.status.idle": "2022-10-20T04:00:16.688047Z",
     "shell.execute_reply": "2022-10-20T04:00:16.687550Z",
     "shell.execute_reply.started": "2022-10-20T04:00:16.648473Z"
    },
    "tags": []
   },
   "outputs": [
    {
     "name": "stdout",
     "output_type": "stream",
     "text": [
      "              precision    recall  f1-score   support\n",
      "\n",
      "           0       0.73      0.74      0.73      1072\n",
      "           1       0.66      0.64      0.65       832\n",
      "\n",
      "    accuracy                           0.70      1904\n",
      "   macro avg       0.69      0.69      0.69      1904\n",
      "weighted avg       0.70      0.70      0.70      1904\n",
      "\n"
     ]
    }
   ],
   "source": [
    "print(metrics.classification_report(Y_test, classifier.predict(X_test)))"
   ]
  },
  {
   "cell_type": "markdown",
   "id": "ce6623d8-d100-4ab3-96b5-05428ac4ce69",
   "metadata": {},
   "source": [
    "# Remarks\n",
    "\n",
    "This is just a proof of concept, and the performance is not surprising: with limited data, language embedding models are very difficult to train. You can easily improve the models with many `pretrained` models, e.g., word2vec."
   ]
  },
  {
   "cell_type": "code",
   "execution_count": null,
   "id": "e267193d-8133-438e-810b-a4195221433e",
   "metadata": {},
   "outputs": [],
   "source": []
  }
 ],
 "metadata": {
  "kernelspec": {
   "display_name": "Python 3.9.7 ('base')",
   "language": "python",
   "name": "python3"
  },
  "language_info": {
   "codemirror_mode": {
    "name": "ipython",
    "version": 3
   },
   "file_extension": ".py",
   "mimetype": "text/x-python",
   "name": "python",
   "nbconvert_exporter": "python",
   "pygments_lexer": "ipython3",
   "version": "3.9.7"
  },
  "vscode": {
   "interpreter": {
    "hash": "f9f9a4bd8dc2e315721bc0f481f0f91f77bc507b61426236d2cee989b171ce4e"
   }
  }
 },
 "nbformat": 4,
 "nbformat_minor": 5
}
